{
  "nbformat": 4,
  "nbformat_minor": 0,
  "metadata": {
    "colab": {
      "name": "Air_Quality_Prediction.ipynb",
      "provenance": [],
      "collapsed_sections": [
        "Sl3t4_r0yIcf",
        "Ao07n7box-cG",
        "EyiG6C5bxxCB",
        "O_WFAUgfxDce",
        "6UTnZImwt8Xe",
        "iIhURskZvC9r",
        "a1dBGAyhvopk",
        "QFU0RaT8v-SB",
        "MYMM2xYTwPFB",
        "lr_zu-uywiUA"
      ]
    },
    "kernelspec": {
      "name": "python3",
      "display_name": "Python 3"
    },
    "language_info": {
      "name": "python"
    }
  },
  "cells": [
    {
      "cell_type": "code",
      "metadata": {
        "id": "A0ruwaIDpQ-h"
      },
      "source": [
        "import numpy as np\n",
        "import pandas as pd\n",
        "import matplotlib.pyplot as plt\n",
        "import seaborn as sns\n",
        "%matplotlib inline"
      ],
      "execution_count": null,
      "outputs": []
    },
    {
      "cell_type": "markdown",
      "metadata": {
        "id": "Sl3t4_r0yIcf"
      },
      "source": [
        "### **Loading Dataset**"
      ]
    },
    {
      "cell_type": "code",
      "metadata": {
        "colab": {
          "base_uri": "https://localhost:8080/",
          "height": 358
        },
        "id": "WMFRMTG2qsLk",
        "outputId": "5d0cfed5-562d-4f95-d2c0-e2d221d4e7d1"
      },
      "source": [
        "#loading dataset\n",
        "df= pd.read_csv('/content/drive/MyDrive/Colab Notebooks/AirQualityUCI.csv', header=None)\n",
        "df.head()"
      ],
      "execution_count": null,
      "outputs": [
        {
          "output_type": "execute_result",
          "data": {
            "text/html": [
              "<div>\n",
              "<style scoped>\n",
              "    .dataframe tbody tr th:only-of-type {\n",
              "        vertical-align: middle;\n",
              "    }\n",
              "\n",
              "    .dataframe tbody tr th {\n",
              "        vertical-align: top;\n",
              "    }\n",
              "\n",
              "    .dataframe thead th {\n",
              "        text-align: right;\n",
              "    }\n",
              "</style>\n",
              "<table border=\"1\" class=\"dataframe\">\n",
              "  <thead>\n",
              "    <tr style=\"text-align: right;\">\n",
              "      <th></th>\n",
              "      <th>0</th>\n",
              "      <th>1</th>\n",
              "      <th>2</th>\n",
              "      <th>3</th>\n",
              "      <th>4</th>\n",
              "      <th>5</th>\n",
              "      <th>6</th>\n",
              "      <th>7</th>\n",
              "      <th>8</th>\n",
              "      <th>9</th>\n",
              "      <th>10</th>\n",
              "      <th>11</th>\n",
              "      <th>12</th>\n",
              "      <th>13</th>\n",
              "      <th>14</th>\n",
              "      <th>15</th>\n",
              "      <th>16</th>\n",
              "    </tr>\n",
              "  </thead>\n",
              "  <tbody>\n",
              "    <tr>\n",
              "      <th>0</th>\n",
              "      <td>Date</td>\n",
              "      <td>Time</td>\n",
              "      <td>CO(GT)</td>\n",
              "      <td>PT08.S1(CO)</td>\n",
              "      <td>NMHC(GT)</td>\n",
              "      <td>C6H6(GT)</td>\n",
              "      <td>PT08.S2(NMHC)</td>\n",
              "      <td>NOx(GT)</td>\n",
              "      <td>PT08.S3(NOx)</td>\n",
              "      <td>NO2(GT)</td>\n",
              "      <td>PT08.S4(NO2)</td>\n",
              "      <td>PT08.S5(O3)</td>\n",
              "      <td>T</td>\n",
              "      <td>RH</td>\n",
              "      <td>AH</td>\n",
              "      <td>NaN</td>\n",
              "      <td>NaN</td>\n",
              "    </tr>\n",
              "    <tr>\n",
              "      <th>1</th>\n",
              "      <td>10-03-2004</td>\n",
              "      <td>18:00:00</td>\n",
              "      <td>2.6</td>\n",
              "      <td>1360</td>\n",
              "      <td>150</td>\n",
              "      <td>11.9</td>\n",
              "      <td>1046</td>\n",
              "      <td>166</td>\n",
              "      <td>1056</td>\n",
              "      <td>113</td>\n",
              "      <td>1692</td>\n",
              "      <td>1268</td>\n",
              "      <td>13.6</td>\n",
              "      <td>48.9</td>\n",
              "      <td>0.7578</td>\n",
              "      <td>NaN</td>\n",
              "      <td>NaN</td>\n",
              "    </tr>\n",
              "    <tr>\n",
              "      <th>2</th>\n",
              "      <td>10-03-2004</td>\n",
              "      <td>19:00:00</td>\n",
              "      <td>2</td>\n",
              "      <td>1292</td>\n",
              "      <td>112</td>\n",
              "      <td>9.4</td>\n",
              "      <td>955</td>\n",
              "      <td>103</td>\n",
              "      <td>1174</td>\n",
              "      <td>92</td>\n",
              "      <td>1559</td>\n",
              "      <td>972</td>\n",
              "      <td>13.3</td>\n",
              "      <td>47.7</td>\n",
              "      <td>0.7255</td>\n",
              "      <td>NaN</td>\n",
              "      <td>NaN</td>\n",
              "    </tr>\n",
              "    <tr>\n",
              "      <th>3</th>\n",
              "      <td>10-03-2004</td>\n",
              "      <td>20:00:00</td>\n",
              "      <td>2.2</td>\n",
              "      <td>1402</td>\n",
              "      <td>88</td>\n",
              "      <td>9.0</td>\n",
              "      <td>939</td>\n",
              "      <td>131</td>\n",
              "      <td>1140</td>\n",
              "      <td>114</td>\n",
              "      <td>1555</td>\n",
              "      <td>1074</td>\n",
              "      <td>11.9</td>\n",
              "      <td>54.0</td>\n",
              "      <td>0.7502</td>\n",
              "      <td>NaN</td>\n",
              "      <td>NaN</td>\n",
              "    </tr>\n",
              "    <tr>\n",
              "      <th>4</th>\n",
              "      <td>10-03-2004</td>\n",
              "      <td>21:00:00</td>\n",
              "      <td>2.2</td>\n",
              "      <td>1376</td>\n",
              "      <td>80</td>\n",
              "      <td>9.2</td>\n",
              "      <td>948</td>\n",
              "      <td>172</td>\n",
              "      <td>1092</td>\n",
              "      <td>122</td>\n",
              "      <td>1584</td>\n",
              "      <td>1203</td>\n",
              "      <td>11.0</td>\n",
              "      <td>60.0</td>\n",
              "      <td>0.7867</td>\n",
              "      <td>NaN</td>\n",
              "      <td>NaN</td>\n",
              "    </tr>\n",
              "  </tbody>\n",
              "</table>\n",
              "</div>"
            ],
            "text/plain": [
              "           0         1       2            3   ...    13      14  15  16\n",
              "0        Date      Time  CO(GT)  PT08.S1(CO)  ...    RH      AH NaN NaN\n",
              "1  10-03-2004  18:00:00     2.6         1360  ...  48.9  0.7578 NaN NaN\n",
              "2  10-03-2004  19:00:00       2         1292  ...  47.7  0.7255 NaN NaN\n",
              "3  10-03-2004  20:00:00     2.2         1402  ...  54.0  0.7502 NaN NaN\n",
              "4  10-03-2004  21:00:00     2.2         1376  ...  60.0  0.7867 NaN NaN\n",
              "\n",
              "[5 rows x 17 columns]"
            ]
          },
          "metadata": {
            "tags": []
          },
          "execution_count": 2
        }
      ]
    },
    {
      "cell_type": "code",
      "metadata": {
        "id": "OzJWCU1XrBWB"
      },
      "source": [
        "#defining headers(Capitalized)\n",
        "col=['DATE','TIME','CO_GT','PT08_S1_CO','NMHC_GT','C6H6_GT','PT08_S2_NMHC',\n",
        "     'NOX_GT','PT08_S3_NOX','NO2_GT','PT08_S4_NO2','PT08_S5_O3','T','RH','AH']"
      ],
      "execution_count": null,
      "outputs": []
    },
    {
      "cell_type": "code",
      "metadata": {
        "colab": {
          "base_uri": "https://localhost:8080/",
          "height": 377
        },
        "id": "K7tRIQOCrDnp",
        "outputId": "f82b42ab-4157-41bf-8381-3585ad5e6a1c"
      },
      "source": [
        "#Skiping Row1, Including 'col' i.e. Headers\n",
        "df1=pd.read_csv('/content/drive/MyDrive/Colab Notebooks/AirQualityUCI.csv',header=None,skiprows=1,names=col)\n",
        "df1.head(10)"
      ],
      "execution_count": null,
      "outputs": [
        {
          "output_type": "execute_result",
          "data": {
            "text/html": [
              "<div>\n",
              "<style scoped>\n",
              "    .dataframe tbody tr th:only-of-type {\n",
              "        vertical-align: middle;\n",
              "    }\n",
              "\n",
              "    .dataframe tbody tr th {\n",
              "        vertical-align: top;\n",
              "    }\n",
              "\n",
              "    .dataframe thead th {\n",
              "        text-align: right;\n",
              "    }\n",
              "</style>\n",
              "<table border=\"1\" class=\"dataframe\">\n",
              "  <thead>\n",
              "    <tr style=\"text-align: right;\">\n",
              "      <th></th>\n",
              "      <th></th>\n",
              "      <th>DATE</th>\n",
              "      <th>TIME</th>\n",
              "      <th>CO_GT</th>\n",
              "      <th>PT08_S1_CO</th>\n",
              "      <th>NMHC_GT</th>\n",
              "      <th>C6H6_GT</th>\n",
              "      <th>PT08_S2_NMHC</th>\n",
              "      <th>NOX_GT</th>\n",
              "      <th>PT08_S3_NOX</th>\n",
              "      <th>NO2_GT</th>\n",
              "      <th>PT08_S4_NO2</th>\n",
              "      <th>PT08_S5_O3</th>\n",
              "      <th>T</th>\n",
              "      <th>RH</th>\n",
              "      <th>AH</th>\n",
              "    </tr>\n",
              "  </thead>\n",
              "  <tbody>\n",
              "    <tr>\n",
              "      <th rowspan=\"6\" valign=\"top\">10-03-2004</th>\n",
              "      <th>18:00:00</th>\n",
              "      <td>2.6</td>\n",
              "      <td>1360.0</td>\n",
              "      <td>150.0</td>\n",
              "      <td>11.9</td>\n",
              "      <td>1046.0</td>\n",
              "      <td>166.0</td>\n",
              "      <td>1056.0</td>\n",
              "      <td>113.0</td>\n",
              "      <td>1692.0</td>\n",
              "      <td>1268.0</td>\n",
              "      <td>13.6</td>\n",
              "      <td>48.9</td>\n",
              "      <td>0.7578</td>\n",
              "      <td>NaN</td>\n",
              "      <td>NaN</td>\n",
              "    </tr>\n",
              "    <tr>\n",
              "      <th>19:00:00</th>\n",
              "      <td>2.0</td>\n",
              "      <td>1292.0</td>\n",
              "      <td>112.0</td>\n",
              "      <td>9.4</td>\n",
              "      <td>955.0</td>\n",
              "      <td>103.0</td>\n",
              "      <td>1174.0</td>\n",
              "      <td>92.0</td>\n",
              "      <td>1559.0</td>\n",
              "      <td>972.0</td>\n",
              "      <td>13.3</td>\n",
              "      <td>47.7</td>\n",
              "      <td>0.7255</td>\n",
              "      <td>NaN</td>\n",
              "      <td>NaN</td>\n",
              "    </tr>\n",
              "    <tr>\n",
              "      <th>20:00:00</th>\n",
              "      <td>2.2</td>\n",
              "      <td>1402.0</td>\n",
              "      <td>88.0</td>\n",
              "      <td>9.0</td>\n",
              "      <td>939.0</td>\n",
              "      <td>131.0</td>\n",
              "      <td>1140.0</td>\n",
              "      <td>114.0</td>\n",
              "      <td>1555.0</td>\n",
              "      <td>1074.0</td>\n",
              "      <td>11.9</td>\n",
              "      <td>54.0</td>\n",
              "      <td>0.7502</td>\n",
              "      <td>NaN</td>\n",
              "      <td>NaN</td>\n",
              "    </tr>\n",
              "    <tr>\n",
              "      <th>21:00:00</th>\n",
              "      <td>2.2</td>\n",
              "      <td>1376.0</td>\n",
              "      <td>80.0</td>\n",
              "      <td>9.2</td>\n",
              "      <td>948.0</td>\n",
              "      <td>172.0</td>\n",
              "      <td>1092.0</td>\n",
              "      <td>122.0</td>\n",
              "      <td>1584.0</td>\n",
              "      <td>1203.0</td>\n",
              "      <td>11.0</td>\n",
              "      <td>60.0</td>\n",
              "      <td>0.7867</td>\n",
              "      <td>NaN</td>\n",
              "      <td>NaN</td>\n",
              "    </tr>\n",
              "    <tr>\n",
              "      <th>22:00:00</th>\n",
              "      <td>1.6</td>\n",
              "      <td>1272.0</td>\n",
              "      <td>51.0</td>\n",
              "      <td>6.5</td>\n",
              "      <td>836.0</td>\n",
              "      <td>131.0</td>\n",
              "      <td>1205.0</td>\n",
              "      <td>116.0</td>\n",
              "      <td>1490.0</td>\n",
              "      <td>1110.0</td>\n",
              "      <td>11.2</td>\n",
              "      <td>59.6</td>\n",
              "      <td>0.7888</td>\n",
              "      <td>NaN</td>\n",
              "      <td>NaN</td>\n",
              "    </tr>\n",
              "    <tr>\n",
              "      <th>23:00:00</th>\n",
              "      <td>1.2</td>\n",
              "      <td>1197.0</td>\n",
              "      <td>38.0</td>\n",
              "      <td>4.7</td>\n",
              "      <td>750.0</td>\n",
              "      <td>89.0</td>\n",
              "      <td>1337.0</td>\n",
              "      <td>96.0</td>\n",
              "      <td>1393.0</td>\n",
              "      <td>949.0</td>\n",
              "      <td>11.2</td>\n",
              "      <td>59.2</td>\n",
              "      <td>0.7848</td>\n",
              "      <td>NaN</td>\n",
              "      <td>NaN</td>\n",
              "    </tr>\n",
              "    <tr>\n",
              "      <th rowspan=\"4\" valign=\"top\">11-03-2004</th>\n",
              "      <th>00:00:00</th>\n",
              "      <td>1.2</td>\n",
              "      <td>1185.0</td>\n",
              "      <td>31.0</td>\n",
              "      <td>3.6</td>\n",
              "      <td>690.0</td>\n",
              "      <td>62.0</td>\n",
              "      <td>1462.0</td>\n",
              "      <td>77.0</td>\n",
              "      <td>1333.0</td>\n",
              "      <td>733.0</td>\n",
              "      <td>11.3</td>\n",
              "      <td>56.8</td>\n",
              "      <td>0.7603</td>\n",
              "      <td>NaN</td>\n",
              "      <td>NaN</td>\n",
              "    </tr>\n",
              "    <tr>\n",
              "      <th>01:00:00</th>\n",
              "      <td>1.0</td>\n",
              "      <td>1136.0</td>\n",
              "      <td>31.0</td>\n",
              "      <td>3.3</td>\n",
              "      <td>672.0</td>\n",
              "      <td>62.0</td>\n",
              "      <td>1453.0</td>\n",
              "      <td>76.0</td>\n",
              "      <td>1333.0</td>\n",
              "      <td>730.0</td>\n",
              "      <td>10.7</td>\n",
              "      <td>60.0</td>\n",
              "      <td>0.7702</td>\n",
              "      <td>NaN</td>\n",
              "      <td>NaN</td>\n",
              "    </tr>\n",
              "    <tr>\n",
              "      <th>02:00:00</th>\n",
              "      <td>0.9</td>\n",
              "      <td>1094.0</td>\n",
              "      <td>24.0</td>\n",
              "      <td>2.3</td>\n",
              "      <td>609.0</td>\n",
              "      <td>45.0</td>\n",
              "      <td>1579.0</td>\n",
              "      <td>60.0</td>\n",
              "      <td>1276.0</td>\n",
              "      <td>620.0</td>\n",
              "      <td>10.7</td>\n",
              "      <td>59.7</td>\n",
              "      <td>0.7648</td>\n",
              "      <td>NaN</td>\n",
              "      <td>NaN</td>\n",
              "    </tr>\n",
              "    <tr>\n",
              "      <th>03:00:00</th>\n",
              "      <td>0.6</td>\n",
              "      <td>1010.0</td>\n",
              "      <td>19.0</td>\n",
              "      <td>1.7</td>\n",
              "      <td>561.0</td>\n",
              "      <td>-200.0</td>\n",
              "      <td>1705.0</td>\n",
              "      <td>-200.0</td>\n",
              "      <td>1235.0</td>\n",
              "      <td>501.0</td>\n",
              "      <td>10.3</td>\n",
              "      <td>60.2</td>\n",
              "      <td>0.7517</td>\n",
              "      <td>NaN</td>\n",
              "      <td>NaN</td>\n",
              "    </tr>\n",
              "  </tbody>\n",
              "</table>\n",
              "</div>"
            ],
            "text/plain": [
              "                     DATE    TIME  CO_GT  ...       T  RH  AH\n",
              "10-03-2004 18:00:00   2.6  1360.0  150.0  ...  0.7578 NaN NaN\n",
              "           19:00:00   2.0  1292.0  112.0  ...  0.7255 NaN NaN\n",
              "           20:00:00   2.2  1402.0   88.0  ...  0.7502 NaN NaN\n",
              "           21:00:00   2.2  1376.0   80.0  ...  0.7867 NaN NaN\n",
              "           22:00:00   1.6  1272.0   51.0  ...  0.7888 NaN NaN\n",
              "           23:00:00   1.2  1197.0   38.0  ...  0.7848 NaN NaN\n",
              "11-03-2004 00:00:00   1.2  1185.0   31.0  ...  0.7603 NaN NaN\n",
              "           01:00:00   1.0  1136.0   31.0  ...  0.7702 NaN NaN\n",
              "           02:00:00   0.9  1094.0   24.0  ...  0.7648 NaN NaN\n",
              "           03:00:00   0.6  1010.0   19.0  ...  0.7517 NaN NaN\n",
              "\n",
              "[10 rows x 15 columns]"
            ]
          },
          "metadata": {
            "tags": []
          },
          "execution_count": 5
        }
      ]
    },
    {
      "cell_type": "code",
      "metadata": {
        "id": "QGe-ndOkrGBX"
      },
      "source": [
        "#Defining col numbers\n",
        "r=list(np.arange(len(col)))"
      ],
      "execution_count": null,
      "outputs": []
    },
    {
      "cell_type": "code",
      "metadata": {
        "id": "ID2HRGRDrKA-"
      },
      "source": [
        "#Na_values=-100\n",
        "df1=pd.read_csv('/content/drive/MyDrive/Colab Notebooks/AirQualityUCI.csv',header=None,skiprows=1,names=col,na_filter=True,\n",
        "                   na_values=-100,usecols=r)"
      ],
      "execution_count": null,
      "outputs": []
    },
    {
      "cell_type": "code",
      "metadata": {
        "colab": {
          "base_uri": "https://localhost:8080/"
        },
        "id": "stwBkmTmrKCP",
        "outputId": "4259a7ab-37a4-47e9-a44c-ee4a77f70d75"
      },
      "source": [
        "#Getting Datatypes\n",
        "df1.dtypes"
      ],
      "execution_count": null,
      "outputs": [
        {
          "output_type": "execute_result",
          "data": {
            "text/plain": [
              "DATE             object\n",
              "TIME             object\n",
              "CO_GT           float64\n",
              "PT08_S1_CO      float64\n",
              "NMHC_GT         float64\n",
              "C6H6_GT         float64\n",
              "PT08_S2_NMHC    float64\n",
              "NOX_GT          float64\n",
              "PT08_S3_NOX     float64\n",
              "NO2_GT          float64\n",
              "PT08_S4_NO2     float64\n",
              "PT08_S5_O3      float64\n",
              "T               float64\n",
              "RH              float64\n",
              "AH              float64\n",
              "dtype: object"
            ]
          },
          "metadata": {
            "tags": []
          },
          "execution_count": 8
        }
      ]
    },
    {
      "cell_type": "code",
      "metadata": {
        "colab": {
          "base_uri": "https://localhost:8080/",
          "height": 501
        },
        "id": "e2-QnqbbrR2I",
        "outputId": "607962ef-26c9-4800-d543-ac8518352e8c"
      },
      "source": [
        "#We could see NaN values in tail\n",
        "df1.tail(130)"
      ],
      "execution_count": null,
      "outputs": [
        {
          "output_type": "execute_result",
          "data": {
            "text/html": [
              "<div>\n",
              "<style scoped>\n",
              "    .dataframe tbody tr th:only-of-type {\n",
              "        vertical-align: middle;\n",
              "    }\n",
              "\n",
              "    .dataframe tbody tr th {\n",
              "        vertical-align: top;\n",
              "    }\n",
              "\n",
              "    .dataframe thead th {\n",
              "        text-align: right;\n",
              "    }\n",
              "</style>\n",
              "<table border=\"1\" class=\"dataframe\">\n",
              "  <thead>\n",
              "    <tr style=\"text-align: right;\">\n",
              "      <th></th>\n",
              "      <th>DATE</th>\n",
              "      <th>TIME</th>\n",
              "      <th>CO_GT</th>\n",
              "      <th>PT08_S1_CO</th>\n",
              "      <th>NMHC_GT</th>\n",
              "      <th>C6H6_GT</th>\n",
              "      <th>PT08_S2_NMHC</th>\n",
              "      <th>NOX_GT</th>\n",
              "      <th>PT08_S3_NOX</th>\n",
              "      <th>NO2_GT</th>\n",
              "      <th>PT08_S4_NO2</th>\n",
              "      <th>PT08_S5_O3</th>\n",
              "      <th>T</th>\n",
              "      <th>RH</th>\n",
              "      <th>AH</th>\n",
              "    </tr>\n",
              "  </thead>\n",
              "  <tbody>\n",
              "    <tr>\n",
              "      <th>9341</th>\n",
              "      <td>03-04-2005</td>\n",
              "      <td>23:00:00</td>\n",
              "      <td>1.2</td>\n",
              "      <td>1100.0</td>\n",
              "      <td>-200.0</td>\n",
              "      <td>5.1</td>\n",
              "      <td>769.0</td>\n",
              "      <td>170.0</td>\n",
              "      <td>722.0</td>\n",
              "      <td>128.0</td>\n",
              "      <td>1147.0</td>\n",
              "      <td>1049.0</td>\n",
              "      <td>14.3</td>\n",
              "      <td>52.5</td>\n",
              "      <td>0.8497</td>\n",
              "    </tr>\n",
              "    <tr>\n",
              "      <th>9342</th>\n",
              "      <td>04-04-2005</td>\n",
              "      <td>00:00:00</td>\n",
              "      <td>0.9</td>\n",
              "      <td>1012.0</td>\n",
              "      <td>-200.0</td>\n",
              "      <td>3.5</td>\n",
              "      <td>683.0</td>\n",
              "      <td>117.0</td>\n",
              "      <td>801.0</td>\n",
              "      <td>93.0</td>\n",
              "      <td>1073.0</td>\n",
              "      <td>816.0</td>\n",
              "      <td>14.2</td>\n",
              "      <td>51.4</td>\n",
              "      <td>0.8275</td>\n",
              "    </tr>\n",
              "    <tr>\n",
              "      <th>9343</th>\n",
              "      <td>04-04-2005</td>\n",
              "      <td>01:00:00</td>\n",
              "      <td>0.6</td>\n",
              "      <td>944.0</td>\n",
              "      <td>-200.0</td>\n",
              "      <td>1.9</td>\n",
              "      <td>579.0</td>\n",
              "      <td>70.0</td>\n",
              "      <td>925.0</td>\n",
              "      <td>58.0</td>\n",
              "      <td>1002.0</td>\n",
              "      <td>598.0</td>\n",
              "      <td>13.8</td>\n",
              "      <td>51.2</td>\n",
              "      <td>0.8058</td>\n",
              "    </tr>\n",
              "    <tr>\n",
              "      <th>9344</th>\n",
              "      <td>04-04-2005</td>\n",
              "      <td>02:00:00</td>\n",
              "      <td>0.5</td>\n",
              "      <td>912.0</td>\n",
              "      <td>-200.0</td>\n",
              "      <td>1.5</td>\n",
              "      <td>544.0</td>\n",
              "      <td>69.0</td>\n",
              "      <td>959.0</td>\n",
              "      <td>55.0</td>\n",
              "      <td>1002.0</td>\n",
              "      <td>573.0</td>\n",
              "      <td>12.1</td>\n",
              "      <td>56.3</td>\n",
              "      <td>0.7927</td>\n",
              "    </tr>\n",
              "    <tr>\n",
              "      <th>9345</th>\n",
              "      <td>04-04-2005</td>\n",
              "      <td>03:00:00</td>\n",
              "      <td>0.4</td>\n",
              "      <td>887.0</td>\n",
              "      <td>-200.0</td>\n",
              "      <td>1.1</td>\n",
              "      <td>508.0</td>\n",
              "      <td>62.0</td>\n",
              "      <td>1047.0</td>\n",
              "      <td>51.0</td>\n",
              "      <td>974.0</td>\n",
              "      <td>549.0</td>\n",
              "      <td>11.3</td>\n",
              "      <td>58.9</td>\n",
              "      <td>0.7888</td>\n",
              "    </tr>\n",
              "    <tr>\n",
              "      <th>...</th>\n",
              "      <td>...</td>\n",
              "      <td>...</td>\n",
              "      <td>...</td>\n",
              "      <td>...</td>\n",
              "      <td>...</td>\n",
              "      <td>...</td>\n",
              "      <td>...</td>\n",
              "      <td>...</td>\n",
              "      <td>...</td>\n",
              "      <td>...</td>\n",
              "      <td>...</td>\n",
              "      <td>...</td>\n",
              "      <td>...</td>\n",
              "      <td>...</td>\n",
              "      <td>...</td>\n",
              "    </tr>\n",
              "    <tr>\n",
              "      <th>9466</th>\n",
              "      <td>NaN</td>\n",
              "      <td>NaN</td>\n",
              "      <td>NaN</td>\n",
              "      <td>NaN</td>\n",
              "      <td>NaN</td>\n",
              "      <td>NaN</td>\n",
              "      <td>NaN</td>\n",
              "      <td>NaN</td>\n",
              "      <td>NaN</td>\n",
              "      <td>NaN</td>\n",
              "      <td>NaN</td>\n",
              "      <td>NaN</td>\n",
              "      <td>NaN</td>\n",
              "      <td>NaN</td>\n",
              "      <td>NaN</td>\n",
              "    </tr>\n",
              "    <tr>\n",
              "      <th>9467</th>\n",
              "      <td>NaN</td>\n",
              "      <td>NaN</td>\n",
              "      <td>NaN</td>\n",
              "      <td>NaN</td>\n",
              "      <td>NaN</td>\n",
              "      <td>NaN</td>\n",
              "      <td>NaN</td>\n",
              "      <td>NaN</td>\n",
              "      <td>NaN</td>\n",
              "      <td>NaN</td>\n",
              "      <td>NaN</td>\n",
              "      <td>NaN</td>\n",
              "      <td>NaN</td>\n",
              "      <td>NaN</td>\n",
              "      <td>NaN</td>\n",
              "    </tr>\n",
              "    <tr>\n",
              "      <th>9468</th>\n",
              "      <td>NaN</td>\n",
              "      <td>NaN</td>\n",
              "      <td>NaN</td>\n",
              "      <td>NaN</td>\n",
              "      <td>NaN</td>\n",
              "      <td>NaN</td>\n",
              "      <td>NaN</td>\n",
              "      <td>NaN</td>\n",
              "      <td>NaN</td>\n",
              "      <td>NaN</td>\n",
              "      <td>NaN</td>\n",
              "      <td>NaN</td>\n",
              "      <td>NaN</td>\n",
              "      <td>NaN</td>\n",
              "      <td>NaN</td>\n",
              "    </tr>\n",
              "    <tr>\n",
              "      <th>9469</th>\n",
              "      <td>NaN</td>\n",
              "      <td>NaN</td>\n",
              "      <td>NaN</td>\n",
              "      <td>NaN</td>\n",
              "      <td>NaN</td>\n",
              "      <td>NaN</td>\n",
              "      <td>NaN</td>\n",
              "      <td>NaN</td>\n",
              "      <td>NaN</td>\n",
              "      <td>NaN</td>\n",
              "      <td>NaN</td>\n",
              "      <td>NaN</td>\n",
              "      <td>NaN</td>\n",
              "      <td>NaN</td>\n",
              "      <td>NaN</td>\n",
              "    </tr>\n",
              "    <tr>\n",
              "      <th>9470</th>\n",
              "      <td>NaN</td>\n",
              "      <td>NaN</td>\n",
              "      <td>NaN</td>\n",
              "      <td>NaN</td>\n",
              "      <td>NaN</td>\n",
              "      <td>NaN</td>\n",
              "      <td>NaN</td>\n",
              "      <td>NaN</td>\n",
              "      <td>NaN</td>\n",
              "      <td>NaN</td>\n",
              "      <td>NaN</td>\n",
              "      <td>NaN</td>\n",
              "      <td>NaN</td>\n",
              "      <td>NaN</td>\n",
              "      <td>NaN</td>\n",
              "    </tr>\n",
              "  </tbody>\n",
              "</table>\n",
              "<p>130 rows × 15 columns</p>\n",
              "</div>"
            ],
            "text/plain": [
              "            DATE      TIME  CO_GT  PT08_S1_CO  ...  PT08_S5_O3     T    RH      AH\n",
              "9341  03-04-2005  23:00:00    1.2      1100.0  ...      1049.0  14.3  52.5  0.8497\n",
              "9342  04-04-2005  00:00:00    0.9      1012.0  ...       816.0  14.2  51.4  0.8275\n",
              "9343  04-04-2005  01:00:00    0.6       944.0  ...       598.0  13.8  51.2  0.8058\n",
              "9344  04-04-2005  02:00:00    0.5       912.0  ...       573.0  12.1  56.3  0.7927\n",
              "9345  04-04-2005  03:00:00    0.4       887.0  ...       549.0  11.3  58.9  0.7888\n",
              "...          ...       ...    ...         ...  ...         ...   ...   ...     ...\n",
              "9466         NaN       NaN    NaN         NaN  ...         NaN   NaN   NaN     NaN\n",
              "9467         NaN       NaN    NaN         NaN  ...         NaN   NaN   NaN     NaN\n",
              "9468         NaN       NaN    NaN         NaN  ...         NaN   NaN   NaN     NaN\n",
              "9469         NaN       NaN    NaN         NaN  ...         NaN   NaN   NaN     NaN\n",
              "9470         NaN       NaN    NaN         NaN  ...         NaN   NaN   NaN     NaN\n",
              "\n",
              "[130 rows x 15 columns]"
            ]
          },
          "metadata": {
            "tags": []
          },
          "execution_count": 9
        }
      ]
    },
    {
      "cell_type": "code",
      "metadata": {
        "id": "90RcpcwZrKFj"
      },
      "source": [
        "#droping end rows with NaN values\n",
        "df1.dropna(how='all',inplace=True)"
      ],
      "execution_count": null,
      "outputs": []
    },
    {
      "cell_type": "code",
      "metadata": {
        "colab": {
          "base_uri": "https://localhost:8080/",
          "height": 525
        },
        "id": "XoeBE1RWrutT",
        "outputId": "023be686-3322-4197-9313-79e88d4aa3ff"
      },
      "source": [
        "df1.tail(10)"
      ],
      "execution_count": null,
      "outputs": [
        {
          "output_type": "execute_result",
          "data": {
            "text/html": [
              "<div>\n",
              "<style scoped>\n",
              "    .dataframe tbody tr th:only-of-type {\n",
              "        vertical-align: middle;\n",
              "    }\n",
              "\n",
              "    .dataframe tbody tr th {\n",
              "        vertical-align: top;\n",
              "    }\n",
              "\n",
              "    .dataframe thead th {\n",
              "        text-align: right;\n",
              "    }\n",
              "</style>\n",
              "<table border=\"1\" class=\"dataframe\">\n",
              "  <thead>\n",
              "    <tr style=\"text-align: right;\">\n",
              "      <th></th>\n",
              "      <th>DATE</th>\n",
              "      <th>TIME</th>\n",
              "      <th>CO_GT</th>\n",
              "      <th>PT08_S1_CO</th>\n",
              "      <th>NMHC_GT</th>\n",
              "      <th>C6H6_GT</th>\n",
              "      <th>PT08_S2_NMHC</th>\n",
              "      <th>NOX_GT</th>\n",
              "      <th>PT08_S3_NOX</th>\n",
              "      <th>NO2_GT</th>\n",
              "      <th>PT08_S4_NO2</th>\n",
              "      <th>PT08_S5_O3</th>\n",
              "      <th>T</th>\n",
              "      <th>RH</th>\n",
              "      <th>AH</th>\n",
              "    </tr>\n",
              "  </thead>\n",
              "  <tbody>\n",
              "    <tr>\n",
              "      <th>9347</th>\n",
              "      <td>04-04-2005</td>\n",
              "      <td>05:00:00</td>\n",
              "      <td>0.5</td>\n",
              "      <td>888.0</td>\n",
              "      <td>-200.0</td>\n",
              "      <td>1.3</td>\n",
              "      <td>528.0</td>\n",
              "      <td>77.0</td>\n",
              "      <td>1077.0</td>\n",
              "      <td>53.0</td>\n",
              "      <td>987.0</td>\n",
              "      <td>578.0</td>\n",
              "      <td>10.4</td>\n",
              "      <td>59.9</td>\n",
              "      <td>0.7550</td>\n",
              "    </tr>\n",
              "    <tr>\n",
              "      <th>9348</th>\n",
              "      <td>04-04-2005</td>\n",
              "      <td>06:00:00</td>\n",
              "      <td>1.1</td>\n",
              "      <td>1031.0</td>\n",
              "      <td>-200.0</td>\n",
              "      <td>4.4</td>\n",
              "      <td>730.0</td>\n",
              "      <td>182.0</td>\n",
              "      <td>760.0</td>\n",
              "      <td>93.0</td>\n",
              "      <td>1129.0</td>\n",
              "      <td>905.0</td>\n",
              "      <td>9.5</td>\n",
              "      <td>63.1</td>\n",
              "      <td>0.7531</td>\n",
              "    </tr>\n",
              "    <tr>\n",
              "      <th>9349</th>\n",
              "      <td>04-04-2005</td>\n",
              "      <td>07:00:00</td>\n",
              "      <td>4.0</td>\n",
              "      <td>1384.0</td>\n",
              "      <td>-200.0</td>\n",
              "      <td>17.4</td>\n",
              "      <td>1221.0</td>\n",
              "      <td>594.0</td>\n",
              "      <td>470.0</td>\n",
              "      <td>155.0</td>\n",
              "      <td>1600.0</td>\n",
              "      <td>1457.0</td>\n",
              "      <td>9.7</td>\n",
              "      <td>61.9</td>\n",
              "      <td>0.7446</td>\n",
              "    </tr>\n",
              "    <tr>\n",
              "      <th>9350</th>\n",
              "      <td>04-04-2005</td>\n",
              "      <td>08:00:00</td>\n",
              "      <td>5.0</td>\n",
              "      <td>1446.0</td>\n",
              "      <td>-200.0</td>\n",
              "      <td>22.4</td>\n",
              "      <td>1362.0</td>\n",
              "      <td>586.0</td>\n",
              "      <td>415.0</td>\n",
              "      <td>174.0</td>\n",
              "      <td>1777.0</td>\n",
              "      <td>1705.0</td>\n",
              "      <td>13.5</td>\n",
              "      <td>48.9</td>\n",
              "      <td>0.7553</td>\n",
              "    </tr>\n",
              "    <tr>\n",
              "      <th>9351</th>\n",
              "      <td>04-04-2005</td>\n",
              "      <td>09:00:00</td>\n",
              "      <td>3.9</td>\n",
              "      <td>1297.0</td>\n",
              "      <td>-200.0</td>\n",
              "      <td>13.6</td>\n",
              "      <td>1102.0</td>\n",
              "      <td>523.0</td>\n",
              "      <td>507.0</td>\n",
              "      <td>187.0</td>\n",
              "      <td>1375.0</td>\n",
              "      <td>1583.0</td>\n",
              "      <td>18.2</td>\n",
              "      <td>36.3</td>\n",
              "      <td>0.7487</td>\n",
              "    </tr>\n",
              "    <tr>\n",
              "      <th>9352</th>\n",
              "      <td>04-04-2005</td>\n",
              "      <td>10:00:00</td>\n",
              "      <td>3.1</td>\n",
              "      <td>1314.0</td>\n",
              "      <td>-200.0</td>\n",
              "      <td>13.5</td>\n",
              "      <td>1101.0</td>\n",
              "      <td>472.0</td>\n",
              "      <td>539.0</td>\n",
              "      <td>190.0</td>\n",
              "      <td>1374.0</td>\n",
              "      <td>1729.0</td>\n",
              "      <td>21.9</td>\n",
              "      <td>29.3</td>\n",
              "      <td>0.7568</td>\n",
              "    </tr>\n",
              "    <tr>\n",
              "      <th>9353</th>\n",
              "      <td>04-04-2005</td>\n",
              "      <td>11:00:00</td>\n",
              "      <td>2.4</td>\n",
              "      <td>1163.0</td>\n",
              "      <td>-200.0</td>\n",
              "      <td>11.4</td>\n",
              "      <td>1027.0</td>\n",
              "      <td>353.0</td>\n",
              "      <td>604.0</td>\n",
              "      <td>179.0</td>\n",
              "      <td>1264.0</td>\n",
              "      <td>1269.0</td>\n",
              "      <td>24.3</td>\n",
              "      <td>23.7</td>\n",
              "      <td>0.7119</td>\n",
              "    </tr>\n",
              "    <tr>\n",
              "      <th>9354</th>\n",
              "      <td>04-04-2005</td>\n",
              "      <td>12:00:00</td>\n",
              "      <td>2.4</td>\n",
              "      <td>1142.0</td>\n",
              "      <td>-200.0</td>\n",
              "      <td>12.4</td>\n",
              "      <td>1063.0</td>\n",
              "      <td>293.0</td>\n",
              "      <td>603.0</td>\n",
              "      <td>175.0</td>\n",
              "      <td>1241.0</td>\n",
              "      <td>1092.0</td>\n",
              "      <td>26.9</td>\n",
              "      <td>18.3</td>\n",
              "      <td>0.6406</td>\n",
              "    </tr>\n",
              "    <tr>\n",
              "      <th>9355</th>\n",
              "      <td>04-04-2005</td>\n",
              "      <td>13:00:00</td>\n",
              "      <td>2.1</td>\n",
              "      <td>1003.0</td>\n",
              "      <td>-200.0</td>\n",
              "      <td>9.5</td>\n",
              "      <td>961.0</td>\n",
              "      <td>235.0</td>\n",
              "      <td>702.0</td>\n",
              "      <td>156.0</td>\n",
              "      <td>1041.0</td>\n",
              "      <td>770.0</td>\n",
              "      <td>28.3</td>\n",
              "      <td>13.5</td>\n",
              "      <td>0.5139</td>\n",
              "    </tr>\n",
              "    <tr>\n",
              "      <th>9356</th>\n",
              "      <td>04-04-2005</td>\n",
              "      <td>14:00:00</td>\n",
              "      <td>2.2</td>\n",
              "      <td>1071.0</td>\n",
              "      <td>-200.0</td>\n",
              "      <td>11.9</td>\n",
              "      <td>1047.0</td>\n",
              "      <td>265.0</td>\n",
              "      <td>654.0</td>\n",
              "      <td>168.0</td>\n",
              "      <td>1129.0</td>\n",
              "      <td>816.0</td>\n",
              "      <td>28.5</td>\n",
              "      <td>13.1</td>\n",
              "      <td>0.5028</td>\n",
              "    </tr>\n",
              "  </tbody>\n",
              "</table>\n",
              "</div>"
            ],
            "text/plain": [
              "            DATE      TIME  CO_GT  PT08_S1_CO  ...  PT08_S5_O3     T    RH      AH\n",
              "9347  04-04-2005  05:00:00    0.5       888.0  ...       578.0  10.4  59.9  0.7550\n",
              "9348  04-04-2005  06:00:00    1.1      1031.0  ...       905.0   9.5  63.1  0.7531\n",
              "9349  04-04-2005  07:00:00    4.0      1384.0  ...      1457.0   9.7  61.9  0.7446\n",
              "9350  04-04-2005  08:00:00    5.0      1446.0  ...      1705.0  13.5  48.9  0.7553\n",
              "9351  04-04-2005  09:00:00    3.9      1297.0  ...      1583.0  18.2  36.3  0.7487\n",
              "9352  04-04-2005  10:00:00    3.1      1314.0  ...      1729.0  21.9  29.3  0.7568\n",
              "9353  04-04-2005  11:00:00    2.4      1163.0  ...      1269.0  24.3  23.7  0.7119\n",
              "9354  04-04-2005  12:00:00    2.4      1142.0  ...      1092.0  26.9  18.3  0.6406\n",
              "9355  04-04-2005  13:00:00    2.1      1003.0  ...       770.0  28.3  13.5  0.5139\n",
              "9356  04-04-2005  14:00:00    2.2      1071.0  ...       816.0  28.5  13.1  0.5028\n",
              "\n",
              "[10 rows x 15 columns]"
            ]
          },
          "metadata": {
            "tags": []
          },
          "execution_count": 12
        }
      ]
    },
    {
      "cell_type": "code",
      "metadata": {
        "colab": {
          "base_uri": "https://localhost:8080/",
          "height": 315
        },
        "id": "IN2S-y6prniT",
        "outputId": "8f6e63ff-cec4-46bc-e28e-ec9203ad4ff1"
      },
      "source": [
        "df1.describe()"
      ],
      "execution_count": null,
      "outputs": [
        {
          "output_type": "execute_result",
          "data": {
            "text/html": [
              "<div>\n",
              "<style scoped>\n",
              "    .dataframe tbody tr th:only-of-type {\n",
              "        vertical-align: middle;\n",
              "    }\n",
              "\n",
              "    .dataframe tbody tr th {\n",
              "        vertical-align: top;\n",
              "    }\n",
              "\n",
              "    .dataframe thead th {\n",
              "        text-align: right;\n",
              "    }\n",
              "</style>\n",
              "<table border=\"1\" class=\"dataframe\">\n",
              "  <thead>\n",
              "    <tr style=\"text-align: right;\">\n",
              "      <th></th>\n",
              "      <th>CO_GT</th>\n",
              "      <th>PT08_S1_CO</th>\n",
              "      <th>NMHC_GT</th>\n",
              "      <th>C6H6_GT</th>\n",
              "      <th>PT08_S2_NMHC</th>\n",
              "      <th>NOX_GT</th>\n",
              "      <th>PT08_S3_NOX</th>\n",
              "      <th>NO2_GT</th>\n",
              "      <th>PT08_S4_NO2</th>\n",
              "      <th>PT08_S5_O3</th>\n",
              "      <th>T</th>\n",
              "      <th>RH</th>\n",
              "      <th>AH</th>\n",
              "    </tr>\n",
              "  </thead>\n",
              "  <tbody>\n",
              "    <tr>\n",
              "      <th>count</th>\n",
              "      <td>9357.000000</td>\n",
              "      <td>9357.000000</td>\n",
              "      <td>9357.000000</td>\n",
              "      <td>9357.000000</td>\n",
              "      <td>9357.000000</td>\n",
              "      <td>9357.000000</td>\n",
              "      <td>9357.000000</td>\n",
              "      <td>9357.000000</td>\n",
              "      <td>9357.000000</td>\n",
              "      <td>9357.000000</td>\n",
              "      <td>9357.000000</td>\n",
              "      <td>9357.000000</td>\n",
              "      <td>9357.000000</td>\n",
              "    </tr>\n",
              "    <tr>\n",
              "      <th>mean</th>\n",
              "      <td>-34.207524</td>\n",
              "      <td>1048.990061</td>\n",
              "      <td>-159.090093</td>\n",
              "      <td>1.865683</td>\n",
              "      <td>894.595276</td>\n",
              "      <td>168.616971</td>\n",
              "      <td>794.990168</td>\n",
              "      <td>58.148873</td>\n",
              "      <td>1391.479641</td>\n",
              "      <td>975.072032</td>\n",
              "      <td>9.778305</td>\n",
              "      <td>39.485380</td>\n",
              "      <td>-6.837604</td>\n",
              "    </tr>\n",
              "    <tr>\n",
              "      <th>std</th>\n",
              "      <td>77.657170</td>\n",
              "      <td>329.832710</td>\n",
              "      <td>139.789093</td>\n",
              "      <td>41.380206</td>\n",
              "      <td>342.333252</td>\n",
              "      <td>257.433866</td>\n",
              "      <td>321.993552</td>\n",
              "      <td>126.940455</td>\n",
              "      <td>467.210125</td>\n",
              "      <td>456.938184</td>\n",
              "      <td>43.203623</td>\n",
              "      <td>51.216145</td>\n",
              "      <td>38.976670</td>\n",
              "    </tr>\n",
              "    <tr>\n",
              "      <th>min</th>\n",
              "      <td>-200.000000</td>\n",
              "      <td>-200.000000</td>\n",
              "      <td>-200.000000</td>\n",
              "      <td>-200.000000</td>\n",
              "      <td>-200.000000</td>\n",
              "      <td>-200.000000</td>\n",
              "      <td>-200.000000</td>\n",
              "      <td>-200.000000</td>\n",
              "      <td>-200.000000</td>\n",
              "      <td>-200.000000</td>\n",
              "      <td>-200.000000</td>\n",
              "      <td>-200.000000</td>\n",
              "      <td>-200.000000</td>\n",
              "    </tr>\n",
              "    <tr>\n",
              "      <th>25%</th>\n",
              "      <td>0.600000</td>\n",
              "      <td>921.000000</td>\n",
              "      <td>-200.000000</td>\n",
              "      <td>4.000000</td>\n",
              "      <td>711.000000</td>\n",
              "      <td>50.000000</td>\n",
              "      <td>637.000000</td>\n",
              "      <td>53.000000</td>\n",
              "      <td>1185.000000</td>\n",
              "      <td>700.000000</td>\n",
              "      <td>10.900000</td>\n",
              "      <td>34.100000</td>\n",
              "      <td>0.692300</td>\n",
              "    </tr>\n",
              "    <tr>\n",
              "      <th>50%</th>\n",
              "      <td>1.500000</td>\n",
              "      <td>1053.000000</td>\n",
              "      <td>-200.000000</td>\n",
              "      <td>7.900000</td>\n",
              "      <td>895.000000</td>\n",
              "      <td>141.000000</td>\n",
              "      <td>794.000000</td>\n",
              "      <td>96.000000</td>\n",
              "      <td>1446.000000</td>\n",
              "      <td>942.000000</td>\n",
              "      <td>17.200000</td>\n",
              "      <td>48.600000</td>\n",
              "      <td>0.976800</td>\n",
              "    </tr>\n",
              "    <tr>\n",
              "      <th>75%</th>\n",
              "      <td>2.600000</td>\n",
              "      <td>1221.000000</td>\n",
              "      <td>-200.000000</td>\n",
              "      <td>13.600000</td>\n",
              "      <td>1105.000000</td>\n",
              "      <td>284.000000</td>\n",
              "      <td>960.000000</td>\n",
              "      <td>133.000000</td>\n",
              "      <td>1662.000000</td>\n",
              "      <td>1255.000000</td>\n",
              "      <td>24.100000</td>\n",
              "      <td>61.900000</td>\n",
              "      <td>1.296200</td>\n",
              "    </tr>\n",
              "    <tr>\n",
              "      <th>max</th>\n",
              "      <td>11.900000</td>\n",
              "      <td>2040.000000</td>\n",
              "      <td>1189.000000</td>\n",
              "      <td>63.700000</td>\n",
              "      <td>2214.000000</td>\n",
              "      <td>1479.000000</td>\n",
              "      <td>2683.000000</td>\n",
              "      <td>340.000000</td>\n",
              "      <td>2775.000000</td>\n",
              "      <td>2523.000000</td>\n",
              "      <td>44.600000</td>\n",
              "      <td>88.700000</td>\n",
              "      <td>2.231000</td>\n",
              "    </tr>\n",
              "  </tbody>\n",
              "</table>\n",
              "</div>"
            ],
            "text/plain": [
              "             CO_GT   PT08_S1_CO  ...           RH           AH\n",
              "count  9357.000000  9357.000000  ...  9357.000000  9357.000000\n",
              "mean    -34.207524  1048.990061  ...    39.485380    -6.837604\n",
              "std      77.657170   329.832710  ...    51.216145    38.976670\n",
              "min    -200.000000  -200.000000  ...  -200.000000  -200.000000\n",
              "25%       0.600000   921.000000  ...    34.100000     0.692300\n",
              "50%       1.500000  1053.000000  ...    48.600000     0.976800\n",
              "75%       2.600000  1221.000000  ...    61.900000     1.296200\n",
              "max      11.900000  2040.000000  ...    88.700000     2.231000\n",
              "\n",
              "[8 rows x 13 columns]"
            ]
          },
          "metadata": {
            "tags": []
          },
          "execution_count": 13
        }
      ]
    },
    {
      "cell_type": "code",
      "metadata": {
        "colab": {
          "base_uri": "https://localhost:8080/"
        },
        "id": "On_G20kJrzxq",
        "outputId": "6febf1f9-ea82-4c66-b3ef-74c55e8078f9"
      },
      "source": [
        "df1.shape"
      ],
      "execution_count": null,
      "outputs": [
        {
          "output_type": "execute_result",
          "data": {
            "text/plain": [
              "(9357, 15)"
            ]
          },
          "metadata": {
            "tags": []
          },
          "execution_count": 14
        }
      ]
    },
    {
      "cell_type": "markdown",
      "metadata": {
        "id": "Ao07n7box-cG"
      },
      "source": [
        "### **Cleaning Of Data**"
      ]
    },
    {
      "cell_type": "code",
      "metadata": {
        "colab": {
          "base_uri": "https://localhost:8080/"
        },
        "id": "RHFFBm3Br4_o",
        "outputId": "1dd5a1c2-a0d6-4da5-b40c-78596acbe6d8"
      },
      "source": [
        "#Counting Missing Values from each Column\n",
        "print('Missing values:\\n\\n',df1.shape[0]-df1.count())\n",
        "clean=(df1.shape[0]-df1.count()).sum()\n",
        "print(\"\\n\")\n",
        "if(clean==0):\n",
        "    print(\"No Missing Values\")"
      ],
      "execution_count": null,
      "outputs": [
        {
          "output_type": "stream",
          "text": [
            "Missing values:\n",
            "\n",
            " DATE            0\n",
            "TIME            0\n",
            "CO_GT           0\n",
            "PT08_S1_CO      0\n",
            "NMHC_GT         0\n",
            "C6H6_GT         0\n",
            "PT08_S2_NMHC    0\n",
            "NOX_GT          0\n",
            "PT08_S3_NOX     0\n",
            "NO2_GT          0\n",
            "PT08_S4_NO2     0\n",
            "PT08_S5_O3      0\n",
            "T               0\n",
            "RH              0\n",
            "AH              0\n",
            "dtype: int64\n",
            "\n",
            "\n",
            "No Missing Values\n"
          ],
          "name": "stdout"
        }
      ]
    },
    {
      "cell_type": "code",
      "metadata": {
        "colab": {
          "base_uri": "https://localhost:8080/",
          "height": 545
        },
        "id": "0gU3qfaXr92V",
        "outputId": "6ca3dbb9-71b2-4451-819e-3b6f83d8c36d"
      },
      "source": [
        "#Defining Month from DATE column\n",
        "df1['DATE']=pd.to_datetime(df1.DATE, format='%d-%m-%Y')\n",
        "df1['MONTH']= df1['DATE'].dt.month  \n",
        "df1.head(10)"
      ],
      "execution_count": null,
      "outputs": [
        {
          "output_type": "execute_result",
          "data": {
            "text/html": [
              "<div>\n",
              "<style scoped>\n",
              "    .dataframe tbody tr th:only-of-type {\n",
              "        vertical-align: middle;\n",
              "    }\n",
              "\n",
              "    .dataframe tbody tr th {\n",
              "        vertical-align: top;\n",
              "    }\n",
              "\n",
              "    .dataframe thead th {\n",
              "        text-align: right;\n",
              "    }\n",
              "</style>\n",
              "<table border=\"1\" class=\"dataframe\">\n",
              "  <thead>\n",
              "    <tr style=\"text-align: right;\">\n",
              "      <th></th>\n",
              "      <th>DATE</th>\n",
              "      <th>TIME</th>\n",
              "      <th>CO_GT</th>\n",
              "      <th>PT08_S1_CO</th>\n",
              "      <th>NMHC_GT</th>\n",
              "      <th>C6H6_GT</th>\n",
              "      <th>PT08_S2_NMHC</th>\n",
              "      <th>NOX_GT</th>\n",
              "      <th>PT08_S3_NOX</th>\n",
              "      <th>NO2_GT</th>\n",
              "      <th>PT08_S4_NO2</th>\n",
              "      <th>PT08_S5_O3</th>\n",
              "      <th>T</th>\n",
              "      <th>RH</th>\n",
              "      <th>AH</th>\n",
              "      <th>MONTH</th>\n",
              "    </tr>\n",
              "  </thead>\n",
              "  <tbody>\n",
              "    <tr>\n",
              "      <th>0</th>\n",
              "      <td>2004-03-10</td>\n",
              "      <td>18:00:00</td>\n",
              "      <td>2.6</td>\n",
              "      <td>1360.0</td>\n",
              "      <td>150.0</td>\n",
              "      <td>11.9</td>\n",
              "      <td>1046.0</td>\n",
              "      <td>166.0</td>\n",
              "      <td>1056.0</td>\n",
              "      <td>113.0</td>\n",
              "      <td>1692.0</td>\n",
              "      <td>1268.0</td>\n",
              "      <td>13.6</td>\n",
              "      <td>48.9</td>\n",
              "      <td>0.7578</td>\n",
              "      <td>3</td>\n",
              "    </tr>\n",
              "    <tr>\n",
              "      <th>1</th>\n",
              "      <td>2004-03-10</td>\n",
              "      <td>19:00:00</td>\n",
              "      <td>2.0</td>\n",
              "      <td>1292.0</td>\n",
              "      <td>112.0</td>\n",
              "      <td>9.4</td>\n",
              "      <td>955.0</td>\n",
              "      <td>103.0</td>\n",
              "      <td>1174.0</td>\n",
              "      <td>92.0</td>\n",
              "      <td>1559.0</td>\n",
              "      <td>972.0</td>\n",
              "      <td>13.3</td>\n",
              "      <td>47.7</td>\n",
              "      <td>0.7255</td>\n",
              "      <td>3</td>\n",
              "    </tr>\n",
              "    <tr>\n",
              "      <th>2</th>\n",
              "      <td>2004-03-10</td>\n",
              "      <td>20:00:00</td>\n",
              "      <td>2.2</td>\n",
              "      <td>1402.0</td>\n",
              "      <td>88.0</td>\n",
              "      <td>9.0</td>\n",
              "      <td>939.0</td>\n",
              "      <td>131.0</td>\n",
              "      <td>1140.0</td>\n",
              "      <td>114.0</td>\n",
              "      <td>1555.0</td>\n",
              "      <td>1074.0</td>\n",
              "      <td>11.9</td>\n",
              "      <td>54.0</td>\n",
              "      <td>0.7502</td>\n",
              "      <td>3</td>\n",
              "    </tr>\n",
              "    <tr>\n",
              "      <th>3</th>\n",
              "      <td>2004-03-10</td>\n",
              "      <td>21:00:00</td>\n",
              "      <td>2.2</td>\n",
              "      <td>1376.0</td>\n",
              "      <td>80.0</td>\n",
              "      <td>9.2</td>\n",
              "      <td>948.0</td>\n",
              "      <td>172.0</td>\n",
              "      <td>1092.0</td>\n",
              "      <td>122.0</td>\n",
              "      <td>1584.0</td>\n",
              "      <td>1203.0</td>\n",
              "      <td>11.0</td>\n",
              "      <td>60.0</td>\n",
              "      <td>0.7867</td>\n",
              "      <td>3</td>\n",
              "    </tr>\n",
              "    <tr>\n",
              "      <th>4</th>\n",
              "      <td>2004-03-10</td>\n",
              "      <td>22:00:00</td>\n",
              "      <td>1.6</td>\n",
              "      <td>1272.0</td>\n",
              "      <td>51.0</td>\n",
              "      <td>6.5</td>\n",
              "      <td>836.0</td>\n",
              "      <td>131.0</td>\n",
              "      <td>1205.0</td>\n",
              "      <td>116.0</td>\n",
              "      <td>1490.0</td>\n",
              "      <td>1110.0</td>\n",
              "      <td>11.2</td>\n",
              "      <td>59.6</td>\n",
              "      <td>0.7888</td>\n",
              "      <td>3</td>\n",
              "    </tr>\n",
              "    <tr>\n",
              "      <th>5</th>\n",
              "      <td>2004-03-10</td>\n",
              "      <td>23:00:00</td>\n",
              "      <td>1.2</td>\n",
              "      <td>1197.0</td>\n",
              "      <td>38.0</td>\n",
              "      <td>4.7</td>\n",
              "      <td>750.0</td>\n",
              "      <td>89.0</td>\n",
              "      <td>1337.0</td>\n",
              "      <td>96.0</td>\n",
              "      <td>1393.0</td>\n",
              "      <td>949.0</td>\n",
              "      <td>11.2</td>\n",
              "      <td>59.2</td>\n",
              "      <td>0.7848</td>\n",
              "      <td>3</td>\n",
              "    </tr>\n",
              "    <tr>\n",
              "      <th>6</th>\n",
              "      <td>2004-03-11</td>\n",
              "      <td>00:00:00</td>\n",
              "      <td>1.2</td>\n",
              "      <td>1185.0</td>\n",
              "      <td>31.0</td>\n",
              "      <td>3.6</td>\n",
              "      <td>690.0</td>\n",
              "      <td>62.0</td>\n",
              "      <td>1462.0</td>\n",
              "      <td>77.0</td>\n",
              "      <td>1333.0</td>\n",
              "      <td>733.0</td>\n",
              "      <td>11.3</td>\n",
              "      <td>56.8</td>\n",
              "      <td>0.7603</td>\n",
              "      <td>3</td>\n",
              "    </tr>\n",
              "    <tr>\n",
              "      <th>7</th>\n",
              "      <td>2004-03-11</td>\n",
              "      <td>01:00:00</td>\n",
              "      <td>1.0</td>\n",
              "      <td>1136.0</td>\n",
              "      <td>31.0</td>\n",
              "      <td>3.3</td>\n",
              "      <td>672.0</td>\n",
              "      <td>62.0</td>\n",
              "      <td>1453.0</td>\n",
              "      <td>76.0</td>\n",
              "      <td>1333.0</td>\n",
              "      <td>730.0</td>\n",
              "      <td>10.7</td>\n",
              "      <td>60.0</td>\n",
              "      <td>0.7702</td>\n",
              "      <td>3</td>\n",
              "    </tr>\n",
              "    <tr>\n",
              "      <th>8</th>\n",
              "      <td>2004-03-11</td>\n",
              "      <td>02:00:00</td>\n",
              "      <td>0.9</td>\n",
              "      <td>1094.0</td>\n",
              "      <td>24.0</td>\n",
              "      <td>2.3</td>\n",
              "      <td>609.0</td>\n",
              "      <td>45.0</td>\n",
              "      <td>1579.0</td>\n",
              "      <td>60.0</td>\n",
              "      <td>1276.0</td>\n",
              "      <td>620.0</td>\n",
              "      <td>10.7</td>\n",
              "      <td>59.7</td>\n",
              "      <td>0.7648</td>\n",
              "      <td>3</td>\n",
              "    </tr>\n",
              "    <tr>\n",
              "      <th>9</th>\n",
              "      <td>2004-03-11</td>\n",
              "      <td>03:00:00</td>\n",
              "      <td>0.6</td>\n",
              "      <td>1010.0</td>\n",
              "      <td>19.0</td>\n",
              "      <td>1.7</td>\n",
              "      <td>561.0</td>\n",
              "      <td>-200.0</td>\n",
              "      <td>1705.0</td>\n",
              "      <td>-200.0</td>\n",
              "      <td>1235.0</td>\n",
              "      <td>501.0</td>\n",
              "      <td>10.3</td>\n",
              "      <td>60.2</td>\n",
              "      <td>0.7517</td>\n",
              "      <td>3</td>\n",
              "    </tr>\n",
              "  </tbody>\n",
              "</table>\n",
              "</div>"
            ],
            "text/plain": [
              "        DATE      TIME  CO_GT  PT08_S1_CO  ...     T    RH      AH  MONTH\n",
              "0 2004-03-10  18:00:00    2.6      1360.0  ...  13.6  48.9  0.7578      3\n",
              "1 2004-03-10  19:00:00    2.0      1292.0  ...  13.3  47.7  0.7255      3\n",
              "2 2004-03-10  20:00:00    2.2      1402.0  ...  11.9  54.0  0.7502      3\n",
              "3 2004-03-10  21:00:00    2.2      1376.0  ...  11.0  60.0  0.7867      3\n",
              "4 2004-03-10  22:00:00    1.6      1272.0  ...  11.2  59.6  0.7888      3\n",
              "5 2004-03-10  23:00:00    1.2      1197.0  ...  11.2  59.2  0.7848      3\n",
              "6 2004-03-11  00:00:00    1.2      1185.0  ...  11.3  56.8  0.7603      3\n",
              "7 2004-03-11  01:00:00    1.0      1136.0  ...  10.7  60.0  0.7702      3\n",
              "8 2004-03-11  02:00:00    0.9      1094.0  ...  10.7  59.7  0.7648      3\n",
              "9 2004-03-11  03:00:00    0.6      1010.0  ...  10.3  60.2  0.7517      3\n",
              "\n",
              "[10 rows x 16 columns]"
            ]
          },
          "metadata": {
            "tags": []
          },
          "execution_count": 16
        }
      ]
    },
    {
      "cell_type": "code",
      "metadata": {
        "id": "vjJQLLOcsB4b",
        "colab": {
          "base_uri": "https://localhost:8080/"
        },
        "outputId": "42f092c0-9006-4732-a838-209b69298dcf"
      },
      "source": [
        "#Splitting Column TIME(HH:MM:SS) into new column(of int64 type)\n",
        "df1['HOUR']=df1['TIME'].apply(lambda x: int(x.split(':')[0]))\n",
        "df1.HOUR.head(10)"
      ],
      "execution_count": null,
      "outputs": [
        {
          "output_type": "execute_result",
          "data": {
            "text/plain": [
              "0    18\n",
              "1    19\n",
              "2    20\n",
              "3    21\n",
              "4    22\n",
              "5    23\n",
              "6     0\n",
              "7     1\n",
              "8     2\n",
              "9     3\n",
              "Name: HOUR, dtype: int64"
            ]
          },
          "metadata": {
            "tags": []
          },
          "execution_count": 17
        }
      ]
    },
    {
      "cell_type": "code",
      "metadata": {
        "id": "_iDQuatYsFuh",
        "colab": {
          "base_uri": "https://localhost:8080/",
          "height": 307
        },
        "outputId": "be0567c2-bf79-4e4f-8dea-c14f3f61ff2c"
      },
      "source": [
        "df1.head()"
      ],
      "execution_count": null,
      "outputs": [
        {
          "output_type": "execute_result",
          "data": {
            "text/html": [
              "<div>\n",
              "<style scoped>\n",
              "    .dataframe tbody tr th:only-of-type {\n",
              "        vertical-align: middle;\n",
              "    }\n",
              "\n",
              "    .dataframe tbody tr th {\n",
              "        vertical-align: top;\n",
              "    }\n",
              "\n",
              "    .dataframe thead th {\n",
              "        text-align: right;\n",
              "    }\n",
              "</style>\n",
              "<table border=\"1\" class=\"dataframe\">\n",
              "  <thead>\n",
              "    <tr style=\"text-align: right;\">\n",
              "      <th></th>\n",
              "      <th>DATE</th>\n",
              "      <th>TIME</th>\n",
              "      <th>CO_GT</th>\n",
              "      <th>PT08_S1_CO</th>\n",
              "      <th>NMHC_GT</th>\n",
              "      <th>C6H6_GT</th>\n",
              "      <th>PT08_S2_NMHC</th>\n",
              "      <th>NOX_GT</th>\n",
              "      <th>PT08_S3_NOX</th>\n",
              "      <th>NO2_GT</th>\n",
              "      <th>PT08_S4_NO2</th>\n",
              "      <th>PT08_S5_O3</th>\n",
              "      <th>T</th>\n",
              "      <th>RH</th>\n",
              "      <th>AH</th>\n",
              "      <th>MONTH</th>\n",
              "      <th>HOUR</th>\n",
              "    </tr>\n",
              "  </thead>\n",
              "  <tbody>\n",
              "    <tr>\n",
              "      <th>0</th>\n",
              "      <td>2004-03-10</td>\n",
              "      <td>18:00:00</td>\n",
              "      <td>2.6</td>\n",
              "      <td>1360.0</td>\n",
              "      <td>150.0</td>\n",
              "      <td>11.9</td>\n",
              "      <td>1046.0</td>\n",
              "      <td>166.0</td>\n",
              "      <td>1056.0</td>\n",
              "      <td>113.0</td>\n",
              "      <td>1692.0</td>\n",
              "      <td>1268.0</td>\n",
              "      <td>13.6</td>\n",
              "      <td>48.9</td>\n",
              "      <td>0.7578</td>\n",
              "      <td>3</td>\n",
              "      <td>18</td>\n",
              "    </tr>\n",
              "    <tr>\n",
              "      <th>1</th>\n",
              "      <td>2004-03-10</td>\n",
              "      <td>19:00:00</td>\n",
              "      <td>2.0</td>\n",
              "      <td>1292.0</td>\n",
              "      <td>112.0</td>\n",
              "      <td>9.4</td>\n",
              "      <td>955.0</td>\n",
              "      <td>103.0</td>\n",
              "      <td>1174.0</td>\n",
              "      <td>92.0</td>\n",
              "      <td>1559.0</td>\n",
              "      <td>972.0</td>\n",
              "      <td>13.3</td>\n",
              "      <td>47.7</td>\n",
              "      <td>0.7255</td>\n",
              "      <td>3</td>\n",
              "      <td>19</td>\n",
              "    </tr>\n",
              "    <tr>\n",
              "      <th>2</th>\n",
              "      <td>2004-03-10</td>\n",
              "      <td>20:00:00</td>\n",
              "      <td>2.2</td>\n",
              "      <td>1402.0</td>\n",
              "      <td>88.0</td>\n",
              "      <td>9.0</td>\n",
              "      <td>939.0</td>\n",
              "      <td>131.0</td>\n",
              "      <td>1140.0</td>\n",
              "      <td>114.0</td>\n",
              "      <td>1555.0</td>\n",
              "      <td>1074.0</td>\n",
              "      <td>11.9</td>\n",
              "      <td>54.0</td>\n",
              "      <td>0.7502</td>\n",
              "      <td>3</td>\n",
              "      <td>20</td>\n",
              "    </tr>\n",
              "    <tr>\n",
              "      <th>3</th>\n",
              "      <td>2004-03-10</td>\n",
              "      <td>21:00:00</td>\n",
              "      <td>2.2</td>\n",
              "      <td>1376.0</td>\n",
              "      <td>80.0</td>\n",
              "      <td>9.2</td>\n",
              "      <td>948.0</td>\n",
              "      <td>172.0</td>\n",
              "      <td>1092.0</td>\n",
              "      <td>122.0</td>\n",
              "      <td>1584.0</td>\n",
              "      <td>1203.0</td>\n",
              "      <td>11.0</td>\n",
              "      <td>60.0</td>\n",
              "      <td>0.7867</td>\n",
              "      <td>3</td>\n",
              "      <td>21</td>\n",
              "    </tr>\n",
              "    <tr>\n",
              "      <th>4</th>\n",
              "      <td>2004-03-10</td>\n",
              "      <td>22:00:00</td>\n",
              "      <td>1.6</td>\n",
              "      <td>1272.0</td>\n",
              "      <td>51.0</td>\n",
              "      <td>6.5</td>\n",
              "      <td>836.0</td>\n",
              "      <td>131.0</td>\n",
              "      <td>1205.0</td>\n",
              "      <td>116.0</td>\n",
              "      <td>1490.0</td>\n",
              "      <td>1110.0</td>\n",
              "      <td>11.2</td>\n",
              "      <td>59.6</td>\n",
              "      <td>0.7888</td>\n",
              "      <td>3</td>\n",
              "      <td>22</td>\n",
              "    </tr>\n",
              "  </tbody>\n",
              "</table>\n",
              "</div>"
            ],
            "text/plain": [
              "        DATE      TIME  CO_GT  PT08_S1_CO  ...    RH      AH  MONTH  HOUR\n",
              "0 2004-03-10  18:00:00    2.6      1360.0  ...  48.9  0.7578      3    18\n",
              "1 2004-03-10  19:00:00    2.0      1292.0  ...  47.7  0.7255      3    19\n",
              "2 2004-03-10  20:00:00    2.2      1402.0  ...  54.0  0.7502      3    20\n",
              "3 2004-03-10  21:00:00    2.2      1376.0  ...  60.0  0.7867      3    21\n",
              "4 2004-03-10  22:00:00    1.6      1272.0  ...  59.6  0.7888      3    22\n",
              "\n",
              "[5 rows x 17 columns]"
            ]
          },
          "metadata": {
            "tags": []
          },
          "execution_count": 18
        }
      ]
    },
    {
      "cell_type": "markdown",
      "metadata": {
        "id": "EyiG6C5bxxCB"
      },
      "source": [
        "### **Understanding Corelation between variables**"
      ]
    },
    {
      "cell_type": "code",
      "metadata": {
        "id": "ChZtt6RgsFwH",
        "colab": {
          "base_uri": "https://localhost:8080/",
          "height": 351
        },
        "outputId": "c7c2cb0e-111f-4419-ac1c-944d6c700120"
      },
      "source": [
        "sns.heatmap(df1.corr(),annot=True, linewidths=.4)\n",
        "plt.title('Heatmap of co-relation between variables',fontsize=16)\n",
        "plt.show()"
      ],
      "execution_count": 19,
      "outputs": [
        {
          "output_type": "display_data",
          "data": {
            "image/png": "[encoded data removed]",
            "text/plain": [
              "<Figure size 432x288 with 2 Axes>"
            ]
          },
          "metadata": {
            "tags": [],
            "needs_background": "light"
          }
        }
      ]
    },
    {
      "cell_type": "markdown",
      "metadata": {
        "id": "O_WFAUgfxDce"
      },
      "source": [
        "### **Understanding Linearity between Relative Humidity(RH) & other variables**"
      ]
    },
    {
      "cell_type": "code",
      "metadata": {
        "id": "SJwdKT42sFzH",
        "colab": {
          "base_uri": "https://localhost:8080/",
          "height": 1000
        },
        "outputId": "43bcb4b7-dcda-4b24-efb8-f31d59cca4d9"
      },
      "source": [
        "col1=df1.columns.tolist()[2:]\n",
        "for i in df1.columns.tolist()[2:]:\n",
        "    sns.lmplot(x=i,y='RH',data=df1,markers='.')"
      ],
      "execution_count": 20,
      "outputs": [
        {
          "output_type": "display_data",
          "data": {
            "image/png": "[encoded data removed]",
            "text/plain": [
              "<Figure size 360x360 with 1 Axes>"
            ]
          },
          "metadata": {
            "tags": [],
            "needs_background": "light"
          }
        },
        {
          "output_type": "display_data",
          "data": {
            "image/png": "[encoded data removed]",
            "text/plain": [
              "<Figure size 360x360 with 1 Axes>"
            ]
          },
          "metadata": {
            "tags": [],
            "needs_background": "light"
          }
        },
        {
          "output_type": "display_data",
          "data": {
            "image/png": "[encoded data removed]",
            "text/plain": [
              "<Figure size 360x360 with 1 Axes>"
            ]
          },
          "metadata": {
            "tags": [],
            "needs_background": "light"
          }
        },
        {
          "output_type": "display_data",
          "data": {
            "image/png": "[encoded data removed]",
            "text/plain": [
              "<Figure size 360x360 with 1 Axes>"
            ]
          },
          "metadata": {
            "tags": [],
            "needs_background": "light"
          }
        },
        {
          "output_type": "display_data",
          "data": {
            "image/png": "[encoded data removed]",
            "text/plain": [
              "<Figure size 360x360 with 1 Axes>"
            ]
          },
          "metadata": {
            "tags": [],
            "needs_background": "light"
          }
        },
        {
          "output_type": "display_data",
          "data": {
            "image/png": "[encoded data removed]",
            "text/plain": [
              "<Figure size 360x360 with 1 Axes>"
            ]
          },
          "metadata": {
            "tags": [],
            "needs_background": "light"
          }
        },
        {
          "output_type": "display_data",
          "data": {
            "image/png": "[encoded data removed]",
            "text/plain": [
              "<Figure size 360x360 with 1 Axes>"
            ]
          },
          "metadata": {
            "tags": [],
            "needs_background": "light"
          }
        },
        {
          "output_type": "display_data",
          "data": {
            "image/png": "[encoded data removed]",
            "text/plain": [
              "<Figure size 360x360 with 1 Axes>"
            ]
          },
          "metadata": {
            "tags": [],
            "needs_background": "light"
          }
        },
        {
          "output_type": "display_data",
          "data": {
            "image/png": "[encoded data removed]",
            "text/plain": [
              "<Figure size 360x360 with 1 Axes>"
            ]
          },
          "metadata": {
            "tags": [],
            "needs_background": "light"
          }
        },
        {
          "output_type": "display_data",
          "data": {
            "image/png": "[encoded data removed]",
            "text/plain": [
              "<Figure size 360x360 with 1 Axes>"
            ]
          },
          "metadata": {
            "tags": [],
            "needs_background": "light"
          }
        },
        {
          "output_type": "display_data",
          "data": {
            "image/png": "[encoded data removed]",
            "text/plain": [
              "<Figure size 360x360 with 1 Axes>"
            ]
          },
          "metadata": {
            "tags": [],
            "needs_background": "light"
          }
        },
        {
          "output_type": "display_data",
          "data": {
            "image/png": "[encoded data removed]",
            "text/plain": [
              "<Figure size 360x360 with 1 Axes>"
            ]
          },
          "metadata": {
            "tags": [],
            "needs_background": "light"
          }
        },
        {
          "output_type": "display_data",
          "data": {
            "image/png": "[encoded data removed]",
            "text/plain": [
              "<Figure size 360x360 with 1 Axes>"
            ]
          },
          "metadata": {
            "tags": [],
            "needs_background": "light"
          }
        },
        {
          "output_type": "display_data",
          "data": {
            "image/png": "[encoded data removed]",
            "text/plain": [
              "<Figure size 360x360 with 1 Axes>"
            ]
          },
          "metadata": {
            "tags": [],
            "needs_background": "light"
          }
        },
        {
          "output_type": "display_data",
          "data": {
            "image/png": "[encoded data removed]",
            "text/plain": [
              "<Figure size 360x360 with 1 Axes>"
            ]
          },
          "metadata": {
            "tags": [],
            "needs_background": "light"
          }
        }
      ]
    },
    {
      "cell_type": "markdown",
      "metadata": {
        "id": "6UTnZImwt8Xe"
      },
      "source": [
        "### **Linear Regression**"
      ]
    },
    {
      "cell_type": "code",
      "metadata": {
        "id": "z6TOg8X0uNCJ"
      },
      "source": [
        "from sklearn.model_selection import train_test_split\n",
        "from sklearn.preprocessing import StandardScaler \n",
        "from sklearn.linear_model import LinearRegression"
      ],
      "execution_count": 22,
      "outputs": []
    },
    {
      "cell_type": "code",
      "metadata": {
        "colab": {
          "base_uri": "https://localhost:8080/",
          "height": 203
        },
        "id": "0qAuNNjzuUm4",
        "outputId": "571f7980-98fb-4c98-98f8-46af245cf432"
      },
      "source": [
        "#Let X-input and Y-input features\n",
        "X=df1[col1].drop('RH',1)     \n",
        "Y=df1['RH']   \n",
        "SScaler=StandardScaler()\n",
        "Xsd=SScaler.fit_transform(X)    #applying stardardisation\n",
        "X.head()"
      ],
      "execution_count": 23,
      "outputs": [
        {
          "output_type": "execute_result",
          "data": {
            "text/html": [
              "<div>\n",
              "<style scoped>\n",
              "    .dataframe tbody tr th:only-of-type {\n",
              "        vertical-align: middle;\n",
              "    }\n",
              "\n",
              "    .dataframe tbody tr th {\n",
              "        vertical-align: top;\n",
              "    }\n",
              "\n",
              "    .dataframe thead th {\n",
              "        text-align: right;\n",
              "    }\n",
              "</style>\n",
              "<table border=\"1\" class=\"dataframe\">\n",
              "  <thead>\n",
              "    <tr style=\"text-align: right;\">\n",
              "      <th></th>\n",
              "      <th>CO_GT</th>\n",
              "      <th>PT08_S1_CO</th>\n",
              "      <th>NMHC_GT</th>\n",
              "      <th>C6H6_GT</th>\n",
              "      <th>PT08_S2_NMHC</th>\n",
              "      <th>NOX_GT</th>\n",
              "      <th>PT08_S3_NOX</th>\n",
              "      <th>NO2_GT</th>\n",
              "      <th>PT08_S4_NO2</th>\n",
              "      <th>PT08_S5_O3</th>\n",
              "      <th>T</th>\n",
              "      <th>AH</th>\n",
              "      <th>MONTH</th>\n",
              "      <th>HOUR</th>\n",
              "    </tr>\n",
              "  </thead>\n",
              "  <tbody>\n",
              "    <tr>\n",
              "      <th>0</th>\n",
              "      <td>2.6</td>\n",
              "      <td>1360.0</td>\n",
              "      <td>150.0</td>\n",
              "      <td>11.9</td>\n",
              "      <td>1046.0</td>\n",
              "      <td>166.0</td>\n",
              "      <td>1056.0</td>\n",
              "      <td>113.0</td>\n",
              "      <td>1692.0</td>\n",
              "      <td>1268.0</td>\n",
              "      <td>13.6</td>\n",
              "      <td>0.7578</td>\n",
              "      <td>3</td>\n",
              "      <td>18</td>\n",
              "    </tr>\n",
              "    <tr>\n",
              "      <th>1</th>\n",
              "      <td>2.0</td>\n",
              "      <td>1292.0</td>\n",
              "      <td>112.0</td>\n",
              "      <td>9.4</td>\n",
              "      <td>955.0</td>\n",
              "      <td>103.0</td>\n",
              "      <td>1174.0</td>\n",
              "      <td>92.0</td>\n",
              "      <td>1559.0</td>\n",
              "      <td>972.0</td>\n",
              "      <td>13.3</td>\n",
              "      <td>0.7255</td>\n",
              "      <td>3</td>\n",
              "      <td>19</td>\n",
              "    </tr>\n",
              "    <tr>\n",
              "      <th>2</th>\n",
              "      <td>2.2</td>\n",
              "      <td>1402.0</td>\n",
              "      <td>88.0</td>\n",
              "      <td>9.0</td>\n",
              "      <td>939.0</td>\n",
              "      <td>131.0</td>\n",
              "      <td>1140.0</td>\n",
              "      <td>114.0</td>\n",
              "      <td>1555.0</td>\n",
              "      <td>1074.0</td>\n",
              "      <td>11.9</td>\n",
              "      <td>0.7502</td>\n",
              "      <td>3</td>\n",
              "      <td>20</td>\n",
              "    </tr>\n",
              "    <tr>\n",
              "      <th>3</th>\n",
              "      <td>2.2</td>\n",
              "      <td>1376.0</td>\n",
              "      <td>80.0</td>\n",
              "      <td>9.2</td>\n",
              "      <td>948.0</td>\n",
              "      <td>172.0</td>\n",
              "      <td>1092.0</td>\n",
              "      <td>122.0</td>\n",
              "      <td>1584.0</td>\n",
              "      <td>1203.0</td>\n",
              "      <td>11.0</td>\n",
              "      <td>0.7867</td>\n",
              "      <td>3</td>\n",
              "      <td>21</td>\n",
              "    </tr>\n",
              "    <tr>\n",
              "      <th>4</th>\n",
              "      <td>1.6</td>\n",
              "      <td>1272.0</td>\n",
              "      <td>51.0</td>\n",
              "      <td>6.5</td>\n",
              "      <td>836.0</td>\n",
              "      <td>131.0</td>\n",
              "      <td>1205.0</td>\n",
              "      <td>116.0</td>\n",
              "      <td>1490.0</td>\n",
              "      <td>1110.0</td>\n",
              "      <td>11.2</td>\n",
              "      <td>0.7888</td>\n",
              "      <td>3</td>\n",
              "      <td>22</td>\n",
              "    </tr>\n",
              "  </tbody>\n",
              "</table>\n",
              "</div>"
            ],
            "text/plain": [
              "   CO_GT  PT08_S1_CO  NMHC_GT  C6H6_GT  ...     T      AH  MONTH  HOUR\n",
              "0    2.6      1360.0    150.0     11.9  ...  13.6  0.7578      3    18\n",
              "1    2.0      1292.0    112.0      9.4  ...  13.3  0.7255      3    19\n",
              "2    2.2      1402.0     88.0      9.0  ...  11.9  0.7502      3    20\n",
              "3    2.2      1376.0     80.0      9.2  ...  11.0  0.7867      3    21\n",
              "4    1.6      1272.0     51.0      6.5  ...  11.2  0.7888      3    22\n",
              "\n",
              "[5 rows x 14 columns]"
            ]
          },
          "metadata": {
            "tags": []
          },
          "execution_count": 23
        }
      ]
    },
    {
      "cell_type": "code",
      "metadata": {
        "colab": {
          "base_uri": "https://localhost:8080/"
        },
        "id": "NB8jZ6J0ubOs",
        "outputId": "383864b1-1558-42c0-e6e5-f819e25b3a04"
      },
      "source": [
        "Y.head()"
      ],
      "execution_count": 24,
      "outputs": [
        {
          "output_type": "execute_result",
          "data": {
            "text/plain": [
              "0    48.9\n",
              "1    47.7\n",
              "2    54.0\n",
              "3    60.0\n",
              "4    59.6\n",
              "Name: RH, dtype: float64"
            ]
          },
          "metadata": {
            "tags": []
          },
          "execution_count": 24
        }
      ]
    },
    {
      "cell_type": "code",
      "metadata": {
        "id": "04GWa4r4ufHN"
      },
      "source": [
        "X_train, X_test, y_train, y_test=train_test_split(Xsd,Y,test_size=0.4, random_state=3)"
      ],
      "execution_count": 25,
      "outputs": []
    },
    {
      "cell_type": "code",
      "metadata": {
        "colab": {
          "base_uri": "https://localhost:8080/"
        },
        "id": "efTe9Fr9uikM",
        "outputId": "fa3bcc69-f597-42dc-afe0-7dd337cd9779"
      },
      "source": [
        "#Data-Size\n",
        "print('Training Data Size:',X_train.shape)\n",
        "print('Test Data Size:',X_test.shape)"
      ],
      "execution_count": 26,
      "outputs": [
        {
          "output_type": "stream",
          "text": [
            "Training Data Size: (5614, 14)\n",
            "Test Data Size: (3743, 14)\n"
          ],
          "name": "stdout"
        }
      ]
    },
    {
      "cell_type": "code",
      "metadata": {
        "id": "uo8-XB7Auilu"
      },
      "source": [
        "model= LinearRegression()"
      ],
      "execution_count": 27,
      "outputs": []
    },
    {
      "cell_type": "code",
      "metadata": {
        "colab": {
          "base_uri": "https://localhost:8080/"
        },
        "id": "1RtCLFtSuinj",
        "outputId": "8dfd4af3-2dad-485d-97a5-8f1990a4555e"
      },
      "source": [
        "model.fit(X_train,y_train)"
      ],
      "execution_count": 28,
      "outputs": [
        {
          "output_type": "execute_result",
          "data": {
            "text/plain": [
              "LinearRegression(copy_X=True, fit_intercept=True, n_jobs=None, normalize=False)"
            ]
          },
          "metadata": {
            "tags": []
          },
          "execution_count": 28
        }
      ]
    },
    {
      "cell_type": "code",
      "metadata": {
        "colab": {
          "base_uri": "https://localhost:8080/"
        },
        "id": "SE16ugeUuirf",
        "outputId": "cbe78ee1-adb5-4b46-88a4-ad09bfd4e6e2"
      },
      "source": [
        "print('Intercept:',model.intercept_)"
      ],
      "execution_count": 29,
      "outputs": [
        {
          "output_type": "stream",
          "text": [
            "Intercept: 39.613609199630275\n"
          ],
          "name": "stdout"
        }
      ]
    },
    {
      "cell_type": "code",
      "metadata": {
        "colab": {
          "base_uri": "https://localhost:8080/"
        },
        "id": "4tzotLqnurtQ",
        "outputId": "e6d7c4bd-7376-4d05-b108-08bafb2ceef4"
      },
      "source": [
        "prediction = model.predict(X_test)\n",
        "prediction"
      ],
      "execution_count": 30,
      "outputs": [
        {
          "output_type": "execute_result",
          "data": {
            "text/plain": [
              "array([67.22290966, 71.82740726, 49.33816742, ..., 28.00031218,\n",
              "       69.38704067, 61.75363791])"
            ]
          },
          "metadata": {
            "tags": []
          },
          "execution_count": 30
        }
      ]
    },
    {
      "cell_type": "code",
      "metadata": {
        "colab": {
          "base_uri": "https://localhost:8080/"
        },
        "id": "2wiC2Ftzur2S",
        "outputId": "2112ac7a-6b4a-4b15-af5c-3c26dc69b3f3"
      },
      "source": [
        "y_test"
      ],
      "execution_count": 31,
      "outputs": [
        {
          "output_type": "execute_result",
          "data": {
            "text/plain": [
              "6432     71.7\n",
              "1452     67.4\n",
              "7516     55.0\n",
              "4856     53.4\n",
              "1075     32.1\n",
              "        ...  \n",
              "7204   -200.0\n",
              "1759     56.2\n",
              "4868     28.5\n",
              "6328     68.5\n",
              "4113     64.6\n",
              "Name: RH, Length: 3743, dtype: float64"
            ]
          },
          "metadata": {
            "tags": []
          },
          "execution_count": 31
        }
      ]
    },
    {
      "cell_type": "code",
      "metadata": {
        "colab": {
          "base_uri": "https://localhost:8080/"
        },
        "id": "k1GUlPd2uuUf",
        "outputId": "3a3af1e4-b4c9-4204-f402-1e8628e09807"
      },
      "source": [
        "print(\"Co-efficient:\")\n",
        "list(zip(X.columns,model.coef_))"
      ],
      "execution_count": 32,
      "outputs": [
        {
          "output_type": "stream",
          "text": [
            "Co-efficient:\n"
          ],
          "name": "stdout"
        },
        {
          "output_type": "execute_result",
          "data": {
            "text/plain": [
              "[('CO_GT', 0.15911444848921275),\n",
              " ('PT08_S1_CO', 7.618162531383094),\n",
              " ('NMHC_GT', -1.9199932762049348),\n",
              " ('C6H6_GT', -35.4161822077312),\n",
              " ('PT08_S2_NMHC', -19.159748447213495),\n",
              " ('NOX_GT', 4.261893918921038),\n",
              " ('PT08_S3_NOX', -6.679792565838275),\n",
              " ('NO2_GT', -3.0585753757904706),\n",
              " ('PT08_S4_NO2', 25.734049028041067),\n",
              " ('PT08_S5_O3', -1.3920152984890735),\n",
              " ('T', -91.46496876948302),\n",
              " ('AH', 166.65449965998894),\n",
              " ('MONTH', 4.008234084681771),\n",
              " ('HOUR', -0.7360723849731363)]"
            ]
          },
          "metadata": {
            "tags": []
          },
          "execution_count": 32
        }
      ]
    },
    {
      "cell_type": "code",
      "metadata": {
        "colab": {
          "base_uri": "https://localhost:8080/"
        },
        "id": "lJjahWK5uzPa",
        "outputId": "b8acfc75-6af0-4f2d-a2d3-463c750fb01f"
      },
      "source": [
        "#Root Mean Square Error\n",
        "from sklearn import metrics\n",
        "rs=np.sqrt(metrics.mean_squared_error(y_test,prediction))\n",
        "print(rs)\n",
        "print(\"\\n\")\n",
        "print(\"Therefore by applying Linear Regression we can predict RH using all the features together with RSME=\",rs)"
      ],
      "execution_count": 33,
      "outputs": [
        {
          "output_type": "stream",
          "text": [
            "6.971622985617295\n",
            "\n",
            "\n",
            "Therefore by applying Linear Regression we can predict RH using all the features together with RSME= 6.971622985617295\n"
          ],
          "name": "stdout"
        }
      ]
    },
    {
      "cell_type": "markdown",
      "metadata": {
        "id": "iIhURskZvC9r"
      },
      "source": [
        "### **Logistic Regression**"
      ]
    },
    {
      "cell_type": "code",
      "metadata": {
        "id": "o1DatXl0vGW7"
      },
      "source": [
        "from sklearn.linear_model import LogisticRegression\n",
        "model1=LogisticRegression()"
      ],
      "execution_count": 34,
      "outputs": []
    },
    {
      "cell_type": "code",
      "metadata": {
        "id": "DHD5PdubvSPB"
      },
      "source": [
        "from sklearn import preprocessing\n",
        "lab_enc = preprocessing.LabelEncoder()\n",
        "training_y = lab_enc.fit_transform(y_train)"
      ],
      "execution_count": 35,
      "outputs": []
    },
    {
      "cell_type": "code",
      "metadata": {
        "colab": {
          "base_uri": "https://localhost:8080/"
        },
        "id": "uH39NA80vVv1",
        "outputId": "d994c6d5-421b-4a58-ddf7-0cc4ba58ee74"
      },
      "source": [
        "model1.fit(X_train,training_y)"
      ],
      "execution_count": 36,
      "outputs": [
        {
          "output_type": "execute_result",
          "data": {
            "text/plain": [
              "LogisticRegression(C=1.0, class_weight=None, dual=False, fit_intercept=True,\n",
              "                   intercept_scaling=1, l1_ratio=None, max_iter=100,\n",
              "                   multi_class='auto', n_jobs=None, penalty='l2',\n",
              "                   random_state=None, solver='lbfgs', tol=0.0001, verbose=0,\n",
              "                   warm_start=False)"
            ]
          },
          "metadata": {
            "tags": []
          },
          "execution_count": 36
        }
      ]
    },
    {
      "cell_type": "code",
      "metadata": {
        "colab": {
          "base_uri": "https://localhost:8080/"
        },
        "id": "N58Q0wsqvVys",
        "outputId": "b042d433-5de9-4866-f5dc-8cf433733b1d"
      },
      "source": [
        "prediction1=model1.predict(X_test) \n",
        "prediction1"
      ],
      "execution_count": 37,
      "outputs": [
        {
          "output_type": "execute_result",
          "data": {
            "text/plain": [
              "array([566, 390, 312, ..., 125, 639, 541])"
            ]
          },
          "metadata": {
            "tags": []
          },
          "execution_count": 37
        }
      ]
    },
    {
      "cell_type": "code",
      "metadata": {
        "colab": {
          "base_uri": "https://localhost:8080/"
        },
        "id": "U_NTz1vqvkpk",
        "outputId": "39f87e0a-b6a9-432c-875a-33c3bd7cda68"
      },
      "source": [
        "#Root Mean Square Error\n",
        "from sklearn import metrics\n",
        "rs1=np.sqrt(metrics.mean_squared_error(y_test,prediction1))\n",
        "print(rs1)\n",
        "print(\"\\n\")\n",
        "print(\"Therefore by applying Logistic Regression we can predict RH using all the features together with RSME=\",rs1)"
      ],
      "execution_count": 38,
      "outputs": [
        {
          "output_type": "stream",
          "text": [
            "341.6004938919109\n",
            "\n",
            "\n",
            "Therefore by applying Logistic Regression we can predict RH using all the features together with RSME= 341.6004938919109\n"
          ],
          "name": "stdout"
        }
      ]
    },
    {
      "cell_type": "markdown",
      "metadata": {
        "id": "a1dBGAyhvopk"
      },
      "source": [
        "### **Decision Tree Regression**"
      ]
    },
    {
      "cell_type": "code",
      "metadata": {
        "id": "cMXhRLBQvuAn"
      },
      "source": [
        "from sklearn.tree import DecisionTreeRegressor  \n",
        "model2=DecisionTreeRegressor()"
      ],
      "execution_count": 39,
      "outputs": []
    },
    {
      "cell_type": "code",
      "metadata": {
        "colab": {
          "base_uri": "https://localhost:8080/"
        },
        "id": "6KiLEhUTvuIi",
        "outputId": "ad001a18-156c-4d3c-8b71-5d0a60b7eac7"
      },
      "source": [
        "model2.fit(X_train,y_train)"
      ],
      "execution_count": 40,
      "outputs": [
        {
          "output_type": "execute_result",
          "data": {
            "text/plain": [
              "DecisionTreeRegressor(ccp_alpha=0.0, criterion='mse', max_depth=None,\n",
              "                      max_features=None, max_leaf_nodes=None,\n",
              "                      min_impurity_decrease=0.0, min_impurity_split=None,\n",
              "                      min_samples_leaf=1, min_samples_split=2,\n",
              "                      min_weight_fraction_leaf=0.0, presort='deprecated',\n",
              "                      random_state=None, splitter='best')"
            ]
          },
          "metadata": {
            "tags": []
          },
          "execution_count": 40
        }
      ]
    },
    {
      "cell_type": "code",
      "metadata": {
        "colab": {
          "base_uri": "https://localhost:8080/"
        },
        "id": "s6Gk_KtjvuV-",
        "outputId": "21b6d791-e60d-499e-8d43-9cbb05af2308"
      },
      "source": [
        "prediction2=model2.predict(X_test) \n",
        "prediction2"
      ],
      "execution_count": 41,
      "outputs": [
        {
          "output_type": "execute_result",
          "data": {
            "text/plain": [
              "array([75.2, 67. , 54.5, ..., 28.1, 67.6, 62.3])"
            ]
          },
          "metadata": {
            "tags": []
          },
          "execution_count": 41
        }
      ]
    },
    {
      "cell_type": "code",
      "metadata": {
        "colab": {
          "base_uri": "https://localhost:8080/"
        },
        "id": "QLKcXei0vugE",
        "outputId": "eeecf127-48e8-48a5-f0c4-a8d9b3a4a81a"
      },
      "source": [
        "#Root Mean Square Error\n",
        "from sklearn import metrics\n",
        "rs2=np.sqrt(metrics.mean_squared_error(y_test,prediction2))\n",
        "print(rs2)\n",
        "print(\"\\n\")\n",
        "print(\"Therefore by applying Decision Tree Regression we can predict RH using all the features together with RSME=\",rs2)"
      ],
      "execution_count": 42,
      "outputs": [
        {
          "output_type": "stream",
          "text": [
            "1.4163542320737887\n",
            "\n",
            "\n",
            "Therefore by applying Decision Tree Regression we can predict RH using all the features together with RSME= 1.4163542320737887\n"
          ],
          "name": "stdout"
        }
      ]
    },
    {
      "cell_type": "markdown",
      "metadata": {
        "id": "QFU0RaT8v-SB"
      },
      "source": [
        "### **Random Forest Regression**"
      ]
    },
    {
      "cell_type": "code",
      "metadata": {
        "id": "F5Cwcv9SwB6O"
      },
      "source": [
        "from sklearn.ensemble import RandomForestRegressor          \n",
        "model3=RandomForestRegressor()"
      ],
      "execution_count": 43,
      "outputs": []
    },
    {
      "cell_type": "code",
      "metadata": {
        "colab": {
          "base_uri": "https://localhost:8080/"
        },
        "id": "ToHwgMxgwChC",
        "outputId": "8da80658-7711-407a-fe7b-b035c8b03e9b"
      },
      "source": [
        "model3.fit(X_train,y_train)"
      ],
      "execution_count": 44,
      "outputs": [
        {
          "output_type": "execute_result",
          "data": {
            "text/plain": [
              "RandomForestRegressor(bootstrap=True, ccp_alpha=0.0, criterion='mse',\n",
              "                      max_depth=None, max_features='auto', max_leaf_nodes=None,\n",
              "                      max_samples=None, min_impurity_decrease=0.0,\n",
              "                      min_impurity_split=None, min_samples_leaf=1,\n",
              "                      min_samples_split=2, min_weight_fraction_leaf=0.0,\n",
              "                      n_estimators=100, n_jobs=None, oob_score=False,\n",
              "                      random_state=None, verbose=0, warm_start=False)"
            ]
          },
          "metadata": {
            "tags": []
          },
          "execution_count": 44
        }
      ]
    },
    {
      "cell_type": "code",
      "metadata": {
        "colab": {
          "base_uri": "https://localhost:8080/"
        },
        "id": "Bid6scqJwCpC",
        "outputId": "230f18bf-c94d-4c34-bec7-64ccdbdb759f"
      },
      "source": [
        "prediction3=model3.predict(X_test) \n",
        "prediction3"
      ],
      "execution_count": 45,
      "outputs": [
        {
          "output_type": "execute_result",
          "data": {
            "text/plain": [
              "array([72.603, 67.251, 53.283, ..., 27.965, 68.271, 63.828])"
            ]
          },
          "metadata": {
            "tags": []
          },
          "execution_count": 45
        }
      ]
    },
    {
      "cell_type": "code",
      "metadata": {
        "colab": {
          "base_uri": "https://localhost:8080/"
        },
        "id": "rN2TbnPTwCvm",
        "outputId": "a634b58b-c15c-4953-88f7-407bc6724ec5"
      },
      "source": [
        "#Root Mean Square Error\n",
        "from sklearn import metrics\n",
        "rs3=np.sqrt(metrics.mean_squared_error(y_test,prediction3))\n",
        "print(rs3)\n",
        "print(\"\\n\")\n",
        "print(\"Therefore by applying Random Forest Regression we can predict RH using all the features together with RSME=\",rs3)"
      ],
      "execution_count": 46,
      "outputs": [
        {
          "output_type": "stream",
          "text": [
            "0.7249283006915014\n",
            "\n",
            "\n",
            "Therefore by applying Random Forest Regression we can predict RH using all the features together with RSME= 0.7249283006915014\n"
          ],
          "name": "stdout"
        }
      ]
    },
    {
      "cell_type": "markdown",
      "metadata": {
        "id": "MYMM2xYTwPFB"
      },
      "source": [
        "### **Support Vector Machine**"
      ]
    },
    {
      "cell_type": "code",
      "metadata": {
        "id": "ftUB_ZXJwTxK"
      },
      "source": [
        "from sklearn.svm import SVR          \n",
        "model4=SVR()"
      ],
      "execution_count": 47,
      "outputs": []
    },
    {
      "cell_type": "code",
      "metadata": {
        "colab": {
          "base_uri": "https://localhost:8080/"
        },
        "id": "30jV4e7ZwTz3",
        "outputId": "4261f70c-3465-4fa2-b921-ea77e4975538"
      },
      "source": [
        "model4.fit(X_train,y_train)"
      ],
      "execution_count": 48,
      "outputs": [
        {
          "output_type": "execute_result",
          "data": {
            "text/plain": [
              "SVR(C=1.0, cache_size=200, coef0=0.0, degree=3, epsilon=0.1, gamma='scale',\n",
              "    kernel='rbf', max_iter=-1, shrinking=True, tol=0.001, verbose=False)"
            ]
          },
          "metadata": {
            "tags": []
          },
          "execution_count": 48
        }
      ]
    },
    {
      "cell_type": "code",
      "metadata": {
        "colab": {
          "base_uri": "https://localhost:8080/"
        },
        "id": "J2hwe2MywT9N",
        "outputId": "165c1b86-7d81-40c2-c8f3-313db723b4b7"
      },
      "source": [
        "prediction4=model4.predict(X_test) \n",
        "prediction4"
      ],
      "execution_count": 49,
      "outputs": [
        {
          "output_type": "execute_result",
          "data": {
            "text/plain": [
              "array([63.57208768, 54.31643596, 48.07740468, ..., 36.60617946,\n",
              "       61.39761076, 56.67322655])"
            ]
          },
          "metadata": {
            "tags": []
          },
          "execution_count": 49
        }
      ]
    },
    {
      "cell_type": "code",
      "metadata": {
        "colab": {
          "base_uri": "https://localhost:8080/"
        },
        "id": "rPiItm7CwUIz",
        "outputId": "e1bc67f2-f2a5-4c18-da42-cfcf51bf6f61"
      },
      "source": [
        "#Root Mean Square Error\n",
        "from sklearn import metrics\n",
        "rs4=np.sqrt(metrics.mean_squared_error(y_test,prediction4))\n",
        "print(rs4)\n",
        "print(\"\\n\")\n",
        "print(\"Therefore by applying Support Vector Machine we can predict RH using all the features together with RSME=\",rs4)"
      ],
      "execution_count": 50,
      "outputs": [
        {
          "output_type": "stream",
          "text": [
            "24.505288163741934\n",
            "\n",
            "\n",
            "Therefore by applying Support Vector Machine we can predict RH using all the features together with RSME= 24.505288163741934\n"
          ],
          "name": "stdout"
        }
      ]
    },
    {
      "cell_type": "markdown",
      "metadata": {
        "id": "lr_zu-uywiUA"
      },
      "source": [
        "### **Conclusion**"
      ]
    },
    {
      "cell_type": "code",
      "metadata": {
        "colab": {
          "base_uri": "https://localhost:8080/"
        },
        "id": "dHe1q62Xwm4Z",
        "outputId": "6ce13b76-47de-40d8-9034-bce1e13f9c89"
      },
      "source": [
        "print(\"We got following RMSE by applying different regression:\\n\\n\")\n",
        "print(\"Linear Regression=\",rs,\"\\n\")\n",
        "print(\"Logistic Regression=\",rs1,\"\\n\")\n",
        "print(\"Decision Tree Regression=\",rs2,\"\\n\")\n",
        "print(\"Random Forest Regression=\",rs3,\"\\n\")\n",
        "print(\"Support Vector Machine Regression=\",rs4,\"\\n\")"
      ],
      "execution_count": 51,
      "outputs": [
        {
          "output_type": "stream",
          "text": [
            "We got following RMSE by applying different regression:\n",
            "\n",
            "\n",
            "Linear Regression= 6.971622985617295 \n",
            "\n",
            "Logistic Regression= 341.6004938919109 \n",
            "\n",
            "Decision Tree Regression= 1.4163542320737887 \n",
            "\n",
            "Random Forest Regression= 0.7249283006915014 \n",
            "\n",
            "Support Vector Machine Regression= 24.505288163741934 \n",
            "\n"
          ],
          "name": "stdout"
        }
      ]
    },
    {
      "cell_type": "code",
      "metadata": {
        "colab": {
          "base_uri": "https://localhost:8080/"
        },
        "id": "8-hLkltRwm7S",
        "outputId": "592fa1ed-ad34-4efa-cf2b-6b557ba33f83"
      },
      "source": [
        "print(\"So we acheive best results from:\")\n",
        "dict={\"Linear Regression\": rs,\"Logistic Regression\": rs1,\"Decision Tree Regression\": rs2,\"Random Forest Regression\": rs3, \"Support Vector Machine Regression\":rs4   }\n",
        "res =  [key for key in dict if \n",
        "        all(dict[temp] >= dict[key] \n",
        "        for temp in dict)] \n",
        "min_ = {k: dict[k] for k in dict.keys() & set(res)}\n",
        "print(min_)\n"
      ],
      "execution_count": 52,
      "outputs": [
        {
          "output_type": "stream",
          "text": [
            "So we acheive best results from:\n",
            "{'Random Forest Regression': 0.7249283006915014}\n"
          ],
          "name": "stdout"
        }
      ]
    }
  ]
}